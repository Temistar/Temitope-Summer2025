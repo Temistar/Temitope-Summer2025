{
 "cells": [
  {
   "cell_type": "code",
   "execution_count": 2,
   "id": "d0084010",
   "metadata": {
    "scrolled": true
   },
   "outputs": [],
   "source": [
    "import numpy as np\n",
    "#from qiskit.ml.datasets import wine\n",
    "from qiskit import BasicAer\n",
    "from qiskit.circuit.library import ZZFeatureMap\n",
    "from qiskit.utils import QuantumInstance\n",
    "from qiskit_machine_learning.algorithms import QSVC\n",
    "#from qiskit.utils.components.multiclass_extensions import AllPairs\n",
    "#from qiskit.aqua.utils.dataset_helper import get_feature_dimension\n",
    "\n",
    "from qiskit_algorithms.utils import algorithm_globals\n",
    "\n",
    "algorithm_globals.random_seed = 12345"
   ]
  },
  {
   "cell_type": "code",
   "execution_count": 3,
   "id": "5073f107",
   "metadata": {},
   "outputs": [],
   "source": [
    "# General imports\n",
    "import os\n",
    "import gzip\n",
    "import numpy as np\n",
    "import matplotlib.pyplot as plt\n",
    "from pylab import cm\n",
    "import warnings\n",
    "\n",
    "warnings.filterwarnings(\"ignore\")\n",
    "\n",
    "# scikit-learn imports\n",
    "from sklearn import datasets\n",
    "from sklearn.model_selection import train_test_split\n",
    "from sklearn.preprocessing import StandardScaler, MinMaxScaler\n",
    "from sklearn.decomposition import PCA\n",
    "from sklearn.svm import SVC\n",
    "from sklearn.metrics import accuracy_score\n",
    "\n",
    "# Qiskit imports\n",
    "from qiskit import Aer, execute\n",
    "from qiskit.circuit import QuantumCircuit, Parameter, ParameterVector\n",
    "from qiskit.circuit.library import PauliFeatureMap, ZFeatureMap, ZZFeatureMap\n",
    "from qiskit.circuit.library import TwoLocal, NLocal, RealAmplitudes, EfficientSU2\n",
    "from qiskit.circuit.library import HGate, RXGate, RYGate, RZGate, CXGate, CRXGate, CRZGate\n",
    "from qiskit_machine_learning.kernels import QuantumKernel"
   ]
  },
  {
   "cell_type": "code",
   "execution_count": 7,
   "id": "4aa8898a",
   "metadata": {},
   "outputs": [],
   "source": [
    "# Load MNIST dataset\n",
    "DATA_PATH = 'octmnist.npz'\n",
    "data = np.load(DATA_PATH)\n",
    "\n",
    "sample_train = data['train_images']\n",
    "labels_train = data['train_labels']\n",
    "sample_test = data['test_images']\n",
    "labels_test = data['test_labels']\n",
    "\n",
    "sample_train = sample_train[:3766]\n",
    "#labels_train = labels_train[:3766]\n",
    "sample_test = sample_test[:200]\n",
    "labels_test = labels_test[:200]"
   ]
  },
  {
   "cell_type": "code",
   "execution_count": 8,
   "id": "d0dca0ef",
   "metadata": {},
   "outputs": [
    {
     "data": {
      "text/plain": [
       "(3766, 28, 28)"
      ]
     },
     "execution_count": 8,
     "metadata": {},
     "output_type": "execute_result"
    }
   ],
   "source": [
    "sample_train.shape"
   ]
  },
  {
   "cell_type": "code",
   "execution_count": null,
   "id": "9f9798b4",
   "metadata": {},
   "outputs": [],
   "source": []
  },
  {
   "cell_type": "code",
   "execution_count": 63,
   "id": "86a2a1d6",
   "metadata": {
    "scrolled": true
   },
   "outputs": [
    {
     "name": "stdout",
     "output_type": "stream",
     "text": [
      "[3 2 3 3 0 2 1 0 0 3 0 1 3 3 3 2 2 3 0 2 1 0 0 3 0 0 0 1 2 1 2 1 2 3 2 1 1\n",
      " 3 0 2 1 2 0 0 3 1 3 1 1 2 1 0 1 0 0 1 2 1 1 1 1 2 3 2 2 0 2 0 2 1 1 1 3 3\n",
      " 2 2 3 2 3 0 0 2 3 3 3 2 1 2 2 0 2 3 0 1 1 1 1 3 1 0 3 0 0 3 2 2 2 3 1 2 2\n",
      " 1 0 2 3 3 0 0 3 2 0 2 3 1 0 0 0 2 3 1 1 3 1 0 3 2 1 2 0 0 1 0 0 1 1 2 3 2\n",
      " 0 1 0 0 0 1 1 0 2 0 2 1 3 3 3 3 2 1 3 1 2 3 1 0 3 0 2 3 2 3 2 0 2 2 1 1 2\n",
      " 1 1 2 2 2 0 3 3 2 2 0 2 2 1 2]\n"
     ]
    }
   ],
   "source": [
    "\n",
    "labels_test = labels_test.flatten()\n",
    "print(np.array(labels_test))"
   ]
  },
  {
   "cell_type": "code",
   "execution_count": 4,
   "id": "f620466b",
   "metadata": {
    "scrolled": false
   },
   "outputs": [
    {
     "name": "stdout",
     "output_type": "stream",
     "text": [
      "Counts per label in filtered data:\n",
      "Label (0,): 800\n",
      "Label (1,): 800\n",
      "Label (2,): 800\n",
      "Label (3,): 800\n"
     ]
    }
   ],
   "source": [
    "counts_per_label = {(0,): 0, (1,): 0, (2,): 0, (3,): 0}\n",
    "filtered_sample_train = []\n",
    "filtered_labels_train = []\n",
    "\n",
    "# Iterate through the data to filter by label and save 800 counts of each label\n",
    "for label, image in zip(labels_train, sample_train):\n",
    "    label_tuple = tuple(label)\n",
    "    if counts_per_label[label_tuple] < 800:\n",
    "        counts_per_label[label_tuple] += 1\n",
    "        filtered_sample_train.append(image)\n",
    "        filtered_labels_train.append(label)\n",
    "\n",
    "    # Break the loop once 800 counts of each label are saved\n",
    "    if all(count >= 800 for count in counts_per_label.values()):\n",
    "        break\n",
    "\n",
    "# Verify the counts of each label in the filtered data\n",
    "print(\"Counts per label in filtered data:\")\n",
    "for label, count in counts_per_label.items():\n",
    "    print(f\"Label {label}: {count}\")\n",
    "    \n",
    "# Convert the lists to arrays if needed\n",
    "filtered_sample_train = np.array(filtered_sample_train)\n",
    "filtered_labels_train = np.array(filtered_labels_train)"
   ]
  },
  {
   "cell_type": "code",
   "execution_count": 5,
   "id": "79310a27",
   "metadata": {},
   "outputs": [],
   "source": [
    "# Split train data\n",
    "sample_train, sample_val, labels_train, labels_val = train_test_split(\n",
    "    filtered_sample_train, filtered_labels_train, test_size=0.2, random_state=42)"
   ]
  },
  {
   "cell_type": "code",
   "execution_count": 6,
   "id": "240aadd6",
   "metadata": {
    "scrolled": false
   },
   "outputs": [
    {
     "data": {
      "image/png": "[encoded data removed]",
      "text/plain": [
       "<Figure size 864x432 with 4 Axes>"
      ]
     },
     "metadata": {
      "needs_background": "light"
     },
     "output_type": "display_data"
    }
   ],
   "source": [
    "import matplotlib.pyplot as plt\n",
    "\n",
    "# Define a list of labels to choose from (0, 1, 2, 3)\n",
    "labels_to_plot = [0, 1, 2, 3]\n",
    "\n",
    "# Initialize a variable to keep track of the plotted samples\n",
    "samples_plotted = 0\n",
    "\n",
    "# Create a new figure\n",
    "plt.figure(figsize=(12, 6))\n",
    "\n",
    "# Iterate through the labels\n",
    "for label in labels_to_plot:\n",
    "    # Find the first sample with the specified label\n",
    "    sample_index = np.where(labels_train == label)[1][0]\n",
    "    \n",
    "    # Select the sample\n",
    "    single_sample = sample_train[sample_index]\n",
    "    \n",
    "    # Create a subplot for the current sample\n",
    "    plt.subplot(1, len(labels_to_plot), samples_plotted + 1)\n",
    "    \n",
    "    # Display the image and label\n",
    "    plt.imshow(single_sample, cmap='gray')\n",
    "    plt.title(f'Label: {label}')\n",
    "    plt.axis('off')\n",
    "    \n",
    "    # Increment the samples_plotted counter\n",
    "    samples_plotted += 1\n",
    "\n",
    "# Show the entire plot\n",
    "plt.tight_layout()\n",
    "plt.show()\n"
   ]
  },
  {
   "cell_type": "code",
   "execution_count": 124,
   "id": "662eeaef",
   "metadata": {},
   "outputs": [
    {
     "name": "stdout",
     "output_type": "stream",
     "text": [
      "Image data shape: (2560, 28, 28)\n"
     ]
    }
   ],
   "source": [
    "print(\"Image data shape:\", sample_train.shape)"
   ]
  },
  {
   "cell_type": "code",
   "execution_count": 125,
   "id": "c4d5a043",
   "metadata": {},
   "outputs": [
    {
     "data": {
      "image/png": "[encoded data removed]",
      "text/plain": [
       "<Figure size 432x288 with 1 Axes>"
      ]
     },
     "metadata": {
      "needs_background": "light"
     },
     "output_type": "display_data"
    }
   ],
   "source": [
    "# Select a single sample (e.g., the first one)\n",
    "single_sample = sample_train[1]\n",
    "\n",
    "# Display the image using matplotlib\n",
    "plt.imshow(single_sample)\n",
    "plt.title(f'Label: {labels_train[0]}')  # Display the corresponding label\n",
    "plt.axis('off')  # Turn off axis labels\n",
    "plt.show()"
   ]
  },
  {
   "cell_type": "code",
   "execution_count": 7,
   "id": "abaa8dda",
   "metadata": {},
   "outputs": [],
   "source": [
    "num_samples, num_rows, num_cols = sample_train.shape\n",
    "sample_train = sample_train.reshape(num_samples, -1)\n",
    "sample_val = sample_val.reshape(sample_val.shape[0], -1)\n",
    "sample_test = sample_test.reshape(sample_test.shape[0], -1)"
   ]
  },
  {
   "cell_type": "code",
   "execution_count": 8,
   "id": "feec8379",
   "metadata": {},
   "outputs": [],
   "source": [
    "# Standardize\n",
    "ss = StandardScaler()\n",
    "sample_train = ss.fit_transform(sample_train)\n",
    "sample_val = ss.transform(sample_val)\n",
    "sample_test = ss.transform(sample_test)"
   ]
  },
  {
   "cell_type": "code",
   "execution_count": 128,
   "id": "b1381de4",
   "metadata": {
    "scrolled": true
   },
   "outputs": [
    {
     "name": "stdout",
     "output_type": "stream",
     "text": [
      "Image data shape: (2560, 784)\n"
     ]
    }
   ],
   "source": [
    "print(\"Image data shape:\", sample_train.shape)"
   ]
  },
  {
   "cell_type": "markdown",
   "id": "413df766",
   "metadata": {},
   "source": [
    "### Classical Model"
   ]
  },
  {
   "cell_type": "code",
   "execution_count": 129,
   "id": "bf5c5c2f",
   "metadata": {},
   "outputs": [
    {
     "data": {
      "image/png": "[encoded data removed]",
      "text/plain": [
       "<Figure size 576x432 with 2 Axes>"
      ]
     },
     "metadata": {
      "needs_background": "light"
     },
     "output_type": "display_data"
    },
    {
     "name": "stdout",
     "output_type": "stream",
     "text": [
      "Accuracy: 0.353125\n",
      "Class 0 - Precision: 0.5454545454545454, Recall: 0.1744186046511628, F1-Score: 0.2643171806167401\n",
      "Class 1 - Precision: 0.5339805825242718, Recall: 0.34591194968553457, F1-Score: 0.41984732824427484\n",
      "Class 2 - Precision: 0.2536443148688047, Recall: 0.6, F1-Score: 0.35655737704918034\n",
      "Class 3 - Precision: 0.38848920863309355, Recall: 0.32926829268292684, F1-Score: 0.3564356435643565\n"
     ]
    }
   ],
   "source": [
    "from sklearn import svm\n",
    "import seaborn as sns\n",
    "\n",
    "# Create an SVM Classifier with a polynomial kernel\n",
    "clf = svm.SVC(kernel='poly')\n",
    "\n",
    "# Train the model using the training sets\n",
    "clf.fit(sample_train, labels_train)\n",
    "\n",
    "# Predict the response for the validation dataset\n",
    "y_pred = clf.predict(sample_val)\n",
    "\n",
    "from sklearn.metrics import confusion_matrix\n",
    "import matplotlib.pyplot as plt\n",
    "\n",
    "# Create a confusion matrix\n",
    "confusion = confusion_matrix(labels_val, y_pred)\n",
    "\n",
    "# Plot the confusion matrix\n",
    "plt.figure(figsize=(8, 6))\n",
    "sns.heatmap(confusion, annot=True, fmt=\"d\", cmap=\"Blues\", linewidths=0.5)\n",
    "plt.title(\"Confusion Matrix\")\n",
    "plt.xlabel(\"Predicted Labels\")\n",
    "plt.ylabel(\"True Labels\")\n",
    "plt.savefig(\"Confusion_Matrix_SVM.png\")\n",
    "plt.show()\n",
    "\n",
    "# Import scikit-learn metrics module for accuracy calculation\n",
    "from sklearn import metrics\n",
    "\n",
    "# Model Accuracy: how often is the classifier correct?\n",
    "accuracy = metrics.accuracy_score(labels_val, y_pred)\n",
    "print(\"Accuracy:\", accuracy)\n",
    "\n",
    "# Model Precision, Recall, and F1-score for each class\n",
    "precision = metrics.precision_score(labels_val, y_pred, average=None)\n",
    "recall = metrics.recall_score(labels_val, y_pred, average=None)\n",
    "f1_score = metrics.f1_score(labels_val, y_pred, average=None)\n",
    "\n",
    "# Print precision, recall, and F1-score for each class\n",
    "for class_label in range(4):\n",
    "    print(f\"Class {class_label} - Precision: {precision[class_label]}, Recall: {recall[class_label]}, F1-Score: {f1_score[class_label]}\")\n"
   ]
  },
  {
   "cell_type": "markdown",
   "id": "fa5379af",
   "metadata": {},
   "source": [
    "### QSVM"
   ]
  },
  {
   "cell_type": "code",
   "execution_count": 66,
   "id": "c7e966dc",
   "metadata": {},
   "outputs": [],
   "source": [
    "# Reduce dimensions\n",
    "N_DIM = 5\n",
    "pca = PCA(n_components=N_DIM)\n",
    "sample_train = pca.fit_transform(sample_train)\n",
    "sample_val = pca.transform(sample_val)\n",
    "sample_test = pca.transform(sample_test)\n",
    "\n",
    "# Normalize\n",
    "mms = MinMaxScaler((-1, 1))\n",
    "sample_train = mms.fit_transform(sample_train)\n",
    "sample_val = mms.transform(sample_val)\n",
    "sample_test = mms.transform(sample_test)\n"
   ]
  },
  {
   "cell_type": "code",
   "execution_count": 67,
   "id": "3464e125",
   "metadata": {},
   "outputs": [],
   "source": [
    "pauli_map = PauliFeatureMap(feature_dimension=N_DIM, reps=2, paulis = ['X', 'Y', 'ZZ'])\n",
    "pauli_kernel = QuantumKernel(feature_map=pauli_map, quantum_instance=Aer.get_backend('statevector_simulator'))"
   ]
  },
  {
   "cell_type": "code",
   "execution_count": 68,
   "id": "1fc4f0da",
   "metadata": {},
   "outputs": [
    {
     "data": {
      "text/html": [
       "<style>#sk-container-id-2 {color: black;background-color: white;}#sk-container-id-2 pre{padding: 0;}#sk-container-id-2 div.sk-toggleable {background-color: white;}#sk-container-id-2 label.sk-toggleable__label {cursor: pointer;display: block;width: 100%;margin-bottom: 0;padding: 0.3em;box-sizing: border-box;text-align: center;}#sk-container-id-2 label.sk-toggleable__label-arrow:before {content: \"▸\";float: left;margin-right: 0.25em;color: #696969;}#sk-container-id-2 label.sk-toggleable__label-arrow:hover:before {color: black;}#sk-container-id-2 div.sk-estimator:hover label.sk-toggleable__label-arrow:before {color: black;}#sk-container-id-2 div.sk-toggleable__content {max-height: 0;max-width: 0;overflow: hidden;text-align: left;background-color: #f0f8ff;}#sk-container-id-2 div.sk-toggleable__content pre {margin: 0.2em;color: black;border-radius: 0.25em;background-color: #f0f8ff;}#sk-container-id-2 input.sk-toggleable__control:checked~div.sk-toggleable__content {max-height: 200px;max-width: 100%;overflow: auto;}#sk-container-id-2 input.sk-toggleable__control:checked~label.sk-toggleable__label-arrow:before {content: \"▾\";}#sk-container-id-2 div.sk-estimator input.sk-toggleable__control:checked~label.sk-toggleable__label {background-color: #d4ebff;}#sk-container-id-2 div.sk-label input.sk-toggleable__control:checked~label.sk-toggleable__label {background-color: #d4ebff;}#sk-container-id-2 input.sk-hidden--visually {border: 0;clip: rect(1px 1px 1px 1px);clip: rect(1px, 1px, 1px, 1px);height: 1px;margin: -1px;overflow: hidden;padding: 0;position: absolute;width: 1px;}#sk-container-id-2 div.sk-estimator {font-family: monospace;background-color: #f0f8ff;border: 1px dotted black;border-radius: 0.25em;box-sizing: border-box;margin-bottom: 0.5em;}#sk-container-id-2 div.sk-estimator:hover {background-color: #d4ebff;}#sk-container-id-2 div.sk-parallel-item::after {content: \"\";width: 100%;border-bottom: 1px solid gray;flex-grow: 1;}#sk-container-id-2 div.sk-label:hover label.sk-toggleable__label {background-color: #d4ebff;}#sk-container-id-2 div.sk-serial::before {content: \"\";position: absolute;border-left: 1px solid gray;box-sizing: border-box;top: 0;bottom: 0;left: 50%;z-index: 0;}#sk-container-id-2 div.sk-serial {display: flex;flex-direction: column;align-items: center;background-color: white;padding-right: 0.2em;padding-left: 0.2em;position: relative;}#sk-container-id-2 div.sk-item {position: relative;z-index: 1;}#sk-container-id-2 div.sk-parallel {display: flex;align-items: stretch;justify-content: center;background-color: white;position: relative;}#sk-container-id-2 div.sk-item::before, #sk-container-id-2 div.sk-parallel-item::before {content: \"\";position: absolute;border-left: 1px solid gray;box-sizing: border-box;top: 0;bottom: 0;left: 50%;z-index: -1;}#sk-container-id-2 div.sk-parallel-item {display: flex;flex-direction: column;z-index: 1;position: relative;background-color: white;}#sk-container-id-2 div.sk-parallel-item:first-child::after {align-self: flex-end;width: 50%;}#sk-container-id-2 div.sk-parallel-item:last-child::after {align-self: flex-start;width: 50%;}#sk-container-id-2 div.sk-parallel-item:only-child::after {width: 0;}#sk-container-id-2 div.sk-dashed-wrapped {border: 1px dashed gray;margin: 0 0.4em 0.5em 0.4em;box-sizing: border-box;padding-bottom: 0.4em;background-color: white;}#sk-container-id-2 div.sk-label label {font-family: monospace;font-weight: bold;display: inline-block;line-height: 1.2em;}#sk-container-id-2 div.sk-label-container {text-align: center;}#sk-container-id-2 div.sk-container {/* jupyter's `normalize.less` sets `[hidden] { display: none; }` but bootstrap.min.css set `[hidden] { display: none !important; }` so we also need the `!important` here to be able to override the default hidden behavior on the sphinx rendered scikit-learn.org. See: https://github.com/scikit-learn/scikit-learn/issues/21755 */display: inline-block !important;position: relative;}#sk-container-id-2 div.sk-text-repr-fallback {display: none;}</style><div id=\"sk-container-id-2\" class=\"sk-top-container\"><div class=\"sk-text-repr-fallback\"><pre>QSVC(C=1.0, break_ties=False, cache_size=200, class_weight=None, coef0=0.0,\n",
       "     decision_function_shape=&#x27;ovr&#x27;, degree=3, gamma=&#x27;scale&#x27;, max_iter=-1,\n",
       "     probability=False,\n",
       "     quantum_kernel=&lt;qiskit_machine_learning.kernels.quantum_kernel.QuantumKernel object at 0x7fe0f7833af0&gt;,\n",
       "     random_state=12345, shrinking=True, tol=0.001, verbose=False)</pre><b>In a Jupyter environment, please rerun this cell to show the HTML representation or trust the notebook. <br />On GitHub, the HTML representation is unable to render, please try loading this page with nbviewer.org.</b></div><div class=\"sk-container\" hidden><div class=\"sk-item\"><div class=\"sk-estimator sk-toggleable\"><input class=\"sk-toggleable__control sk-hidden--visually\" id=\"sk-estimator-id-2\" type=\"checkbox\" checked><label for=\"sk-estimator-id-2\" class=\"sk-toggleable__label sk-toggleable__label-arrow\">QSVC</label><div class=\"sk-toggleable__content\"><pre>QSVC(C=1.0, break_ties=False, cache_size=200, class_weight=None, coef0=0.0,\n",
       "     decision_function_shape=&#x27;ovr&#x27;, degree=3, gamma=&#x27;scale&#x27;, max_iter=-1,\n",
       "     probability=False,\n",
       "     quantum_kernel=&lt;qiskit_machine_learning.kernels.quantum_kernel.QuantumKernel object at 0x7fe0f7833af0&gt;,\n",
       "     random_state=12345, shrinking=True, tol=0.001, verbose=False)</pre></div></div></div></div></div>"
      ],
      "text/plain": [
       "QSVC(C=1.0, break_ties=False, cache_size=200, class_weight=None, coef0=0.0,\n",
       "     decision_function_shape='ovr', degree=3, gamma='scale', max_iter=-1,\n",
       "     probability=False,\n",
       "     quantum_kernel=<qiskit_machine_learning.kernels.quantum_kernel.QuantumKernel object at 0x7fe0f7833af0>,\n",
       "     random_state=12345, shrinking=True, tol=0.001, verbose=False)"
      ]
     },
     "execution_count": 68,
     "metadata": {},
     "output_type": "execute_result"
    }
   ],
   "source": [
    "qsvc1 = QSVC(quantum_kernel=pauli_kernel)\n",
    "qsvc1.fit(sample_train ,labels_train)"
   ]
  },
  {
   "cell_type": "code",
   "execution_count": 69,
   "id": "b89ec82c",
   "metadata": {
    "scrolled": false
   },
   "outputs": [],
   "source": [
    "# Calculate accuracy for test dataset\n",
    "y_pred = qsvc1.predict(sample_train)"
   ]
  },
  {
   "cell_type": "code",
   "execution_count": 70,
   "id": "54ecca80",
   "metadata": {},
   "outputs": [
    {
     "name": "stdout",
     "output_type": "stream",
     "text": [
      "Accuracy for training dataset: 0.4828125\n"
     ]
    }
   ],
   "source": [
    "from sklearn.metrics import accuracy_score\n",
    "\n",
    "# Assuming y_true contains the true labels and y_pred contains the predicted labels\n",
    "accuracy_test = accuracy_score(labels_train, y_pred)\n",
    "\n",
    "print(f'Accuracy for training dataset: {accuracy_test}')"
   ]
  },
  {
   "cell_type": "code",
   "execution_count": 71,
   "id": "c35171ba",
   "metadata": {},
   "outputs": [],
   "source": [
    "# Calculate accuracy for test dataset\n",
    "y_pred = qsvc1.predict(sample_test)"
   ]
  },
  {
   "cell_type": "code",
   "execution_count": 61,
   "id": "42da23fc",
   "metadata": {},
   "outputs": [
    {
     "data": {
      "text/plain": [
       "(200,)"
      ]
     },
     "execution_count": 61,
     "metadata": {},
     "output_type": "execute_result"
    }
   ],
   "source": [
    "y_pred.shape"
   ]
  },
  {
   "cell_type": "code",
   "execution_count": 62,
   "id": "d972f994",
   "metadata": {},
   "outputs": [
    {
     "data": {
      "text/plain": [
       "(1000,)"
      ]
     },
     "execution_count": 62,
     "metadata": {},
     "output_type": "execute_result"
    }
   ],
   "source": [
    "labels_test.shape"
   ]
  },
  {
   "cell_type": "code",
   "execution_count": 75,
   "id": "e7408bd5",
   "metadata": {},
   "outputs": [
    {
     "name": "stdout",
     "output_type": "stream",
     "text": [
      "Accuracy for test dataset: 0.275\n"
     ]
    }
   ],
   "source": [
    "from sklearn.metrics import accuracy_score\n",
    "\n",
    "# Assuming y_true contains the true labels and y_pred contains the predicted labels\n",
    "accuracy_test = accuracy_score(labels_test, y_pred)\n",
    "\n",
    "print(f'Accuracy for test dataset: {accuracy_test}')"
   ]
  },
  {
   "cell_type": "code",
   "execution_count": 40,
   "id": "42ed3823",
   "metadata": {},
   "outputs": [
    {
     "name": "stdout",
     "output_type": "stream",
     "text": [
      "Precision for each class: 0.2640625\n",
      "Recall for each class: [0.30538922 0.29054054 0.34246575 0.1396648 ]\n",
      "F1 Score for each class: [0.31974922 0.24712644 0.28818444 0.18796992]\n"
     ]
    }
   ],
   "source": [
    "# Calculate precision, recall, and F1 score for each class\n",
    "precision = metrics.precision_score(labels_val, y_pred, average= 'micro')\n",
    "recall = metrics.recall_score(labels_val, y_pred, average=None)\n",
    "f1_score = metrics.f1_score(labels_val, y_pred, average=None)\n",
    "\n",
    "print(f'Precision for each class: {precision}')\n",
    "print(f'Recall for each class: {recall}')\n",
    "print(f'F1 Score for each class: {f1_score}')"
   ]
  },
  {
   "cell_type": "code",
   "execution_count": 14,
   "id": "5394581f",
   "metadata": {},
   "outputs": [],
   "source": [
    "import seaborn as sns\n",
    "\n",
    "from sklearn.metrics import confusion_matrix\n",
    "import matplotlib.pyplot as plt\n",
    "\n",
    "# Create a confusion matrix\n",
    "confusion = confusion_matrix(labels_val, y_pred)\n",
    "\n",
    "# Plot the confusion matrix\n",
    "plt.figure(figsize=(8, 6))\n",
    "sns.heatmap(confusion, annot=True, fmt=\"d\", cmap=\"Blues\", linewidths=0.5)\n",
    "plt.title(\"Confusion Matrix\")\n",
    "plt.xlabel(\"Predicted Labels\")\n",
    "plt.ylabel(\"True Labels\")\n",
    "plt.savefig(\"Confusion_Matrix_SVM.png\")\n",
    "plt.show()"
   ]
  },
  {
   "cell_type": "markdown",
   "id": "3d26084b",
   "metadata": {},
   "source": [
    "### SVC with Quantum Kernel"
   ]
  },
  {
   "cell_type": "code",
   "execution_count": 13,
   "id": "9f2d031d",
   "metadata": {},
   "outputs": [],
   "source": [
    "matrix_train = pauli_kernel.evaluate(x_vec=sample_train)\n",
    "qsvc2 = SVC(kernel='precomputed', probability=True)"
   ]
  },
  {
   "cell_type": "code",
   "execution_count": 15,
   "id": "390a4963",
   "metadata": {
    "scrolled": true
   },
   "outputs": [
    {
     "name": "stdout",
     "output_type": "stream",
     "text": [
      "Accuracy2 for training dataset: 1.0\n"
     ]
    }
   ],
   "source": [
    "qsvc2.fit(matrix_train ,labels_train)\n",
    "accuracy2 = qsvc2.score(matrix_train, labels_train)\n",
    "print(f'Accuracy2 for training dataset: {accuracy2}')"
   ]
  },
  {
   "cell_type": "code",
   "execution_count": 24,
   "id": "5b9aaeb5",
   "metadata": {},
   "outputs": [],
   "source": [
    "matrix_test = pauli_kernel.evaluate(x_vec=sample_test)"
   ]
  },
  {
   "cell_type": "code",
   "execution_count": 73,
   "id": "e6897aaf",
   "metadata": {
    "scrolled": true
   },
   "outputs": [
    {
     "ename": "ValueError",
     "evalue": "X has 5 features, but SVC is expecting 2560 features as input.",
     "output_type": "error",
     "traceback": [
      "\u001b[0;31m---------------------------------------------------------------------------\u001b[0m",
      "\u001b[0;31mValueError\u001b[0m                                Traceback (most recent call last)",
      "Input \u001b[0;32mIn [73]\u001b[0m, in \u001b[0;36m<cell line: 1>\u001b[0;34m()\u001b[0m\n\u001b[0;32m----> 1\u001b[0m y_pred \u001b[38;5;241m=\u001b[39m \u001b[43mqsvc2\u001b[49m\u001b[38;5;241;43m.\u001b[39;49m\u001b[43mpredict\u001b[49m\u001b[43m(\u001b[49m\u001b[43msample_test\u001b[49m\u001b[43m)\u001b[49m\n\u001b[1;32m      2\u001b[0m accuracy3 \u001b[38;5;241m=\u001b[39m qsvc2\u001b[38;5;241m.\u001b[39mscore(label_test, y_pred)\n\u001b[1;32m      3\u001b[0m \u001b[38;5;28mprint\u001b[39m(\u001b[38;5;124mf\u001b[39m\u001b[38;5;124m'\u001b[39m\u001b[38;5;124mAccuracy2 for training dataset: \u001b[39m\u001b[38;5;132;01m{\u001b[39;00maccuracy3\u001b[38;5;132;01m}\u001b[39;00m\u001b[38;5;124m'\u001b[39m)\n",
      "File \u001b[0;32m~/opt/anaconda3/envs/tensorflow_m1/lib/python3.9/site-packages/sklearn/svm/_base.py:820\u001b[0m, in \u001b[0;36mBaseSVC.predict\u001b[0;34m(self, X)\u001b[0m\n\u001b[1;32m    818\u001b[0m     y \u001b[38;5;241m=\u001b[39m np\u001b[38;5;241m.\u001b[39margmax(\u001b[38;5;28mself\u001b[39m\u001b[38;5;241m.\u001b[39mdecision_function(X), axis\u001b[38;5;241m=\u001b[39m\u001b[38;5;241m1\u001b[39m)\n\u001b[1;32m    819\u001b[0m \u001b[38;5;28;01melse\u001b[39;00m:\n\u001b[0;32m--> 820\u001b[0m     y \u001b[38;5;241m=\u001b[39m \u001b[38;5;28;43msuper\u001b[39;49m\u001b[43m(\u001b[49m\u001b[43m)\u001b[49m\u001b[38;5;241;43m.\u001b[39;49m\u001b[43mpredict\u001b[49m\u001b[43m(\u001b[49m\u001b[43mX\u001b[49m\u001b[43m)\u001b[49m\n\u001b[1;32m    821\u001b[0m \u001b[38;5;28;01mreturn\u001b[39;00m \u001b[38;5;28mself\u001b[39m\u001b[38;5;241m.\u001b[39mclasses_\u001b[38;5;241m.\u001b[39mtake(np\u001b[38;5;241m.\u001b[39masarray(y, dtype\u001b[38;5;241m=\u001b[39mnp\u001b[38;5;241m.\u001b[39mintp))\n",
      "File \u001b[0;32m~/opt/anaconda3/envs/tensorflow_m1/lib/python3.9/site-packages/sklearn/svm/_base.py:433\u001b[0m, in \u001b[0;36mBaseLibSVM.predict\u001b[0;34m(self, X)\u001b[0m\n\u001b[1;32m    417\u001b[0m \u001b[38;5;28;01mdef\u001b[39;00m \u001b[38;5;21mpredict\u001b[39m(\u001b[38;5;28mself\u001b[39m, X):\n\u001b[1;32m    418\u001b[0m \u001b[38;5;250m    \u001b[39m\u001b[38;5;124;03m\"\"\"Perform regression on samples in X.\u001b[39;00m\n\u001b[1;32m    419\u001b[0m \n\u001b[1;32m    420\u001b[0m \u001b[38;5;124;03m    For an one-class model, +1 (inlier) or -1 (outlier) is returned.\u001b[39;00m\n\u001b[0;32m   (...)\u001b[0m\n\u001b[1;32m    431\u001b[0m \u001b[38;5;124;03m        The predicted values.\u001b[39;00m\n\u001b[1;32m    432\u001b[0m \u001b[38;5;124;03m    \"\"\"\u001b[39;00m\n\u001b[0;32m--> 433\u001b[0m     X \u001b[38;5;241m=\u001b[39m \u001b[38;5;28;43mself\u001b[39;49m\u001b[38;5;241;43m.\u001b[39;49m\u001b[43m_validate_for_predict\u001b[49m\u001b[43m(\u001b[49m\u001b[43mX\u001b[49m\u001b[43m)\u001b[49m\n\u001b[1;32m    434\u001b[0m     predict \u001b[38;5;241m=\u001b[39m \u001b[38;5;28mself\u001b[39m\u001b[38;5;241m.\u001b[39m_sparse_predict \u001b[38;5;28;01mif\u001b[39;00m \u001b[38;5;28mself\u001b[39m\u001b[38;5;241m.\u001b[39m_sparse \u001b[38;5;28;01melse\u001b[39;00m \u001b[38;5;28mself\u001b[39m\u001b[38;5;241m.\u001b[39m_dense_predict\n\u001b[1;32m    435\u001b[0m     \u001b[38;5;28;01mreturn\u001b[39;00m predict(X)\n",
      "File \u001b[0;32m~/opt/anaconda3/envs/tensorflow_m1/lib/python3.9/site-packages/sklearn/svm/_base.py:613\u001b[0m, in \u001b[0;36mBaseLibSVM._validate_for_predict\u001b[0;34m(self, X)\u001b[0m\n\u001b[1;32m    610\u001b[0m check_is_fitted(\u001b[38;5;28mself\u001b[39m)\n\u001b[1;32m    612\u001b[0m \u001b[38;5;28;01mif\u001b[39;00m \u001b[38;5;129;01mnot\u001b[39;00m \u001b[38;5;28mcallable\u001b[39m(\u001b[38;5;28mself\u001b[39m\u001b[38;5;241m.\u001b[39mkernel):\n\u001b[0;32m--> 613\u001b[0m     X \u001b[38;5;241m=\u001b[39m \u001b[38;5;28;43mself\u001b[39;49m\u001b[38;5;241;43m.\u001b[39;49m\u001b[43m_validate_data\u001b[49m\u001b[43m(\u001b[49m\n\u001b[1;32m    614\u001b[0m \u001b[43m        \u001b[49m\u001b[43mX\u001b[49m\u001b[43m,\u001b[49m\n\u001b[1;32m    615\u001b[0m \u001b[43m        \u001b[49m\u001b[43maccept_sparse\u001b[49m\u001b[38;5;241;43m=\u001b[39;49m\u001b[38;5;124;43m\"\u001b[39;49m\u001b[38;5;124;43mcsr\u001b[39;49m\u001b[38;5;124;43m\"\u001b[39;49m\u001b[43m,\u001b[49m\n\u001b[1;32m    616\u001b[0m \u001b[43m        \u001b[49m\u001b[43mdtype\u001b[49m\u001b[38;5;241;43m=\u001b[39;49m\u001b[43mnp\u001b[49m\u001b[38;5;241;43m.\u001b[39;49m\u001b[43mfloat64\u001b[49m\u001b[43m,\u001b[49m\n\u001b[1;32m    617\u001b[0m \u001b[43m        \u001b[49m\u001b[43morder\u001b[49m\u001b[38;5;241;43m=\u001b[39;49m\u001b[38;5;124;43m\"\u001b[39;49m\u001b[38;5;124;43mC\u001b[39;49m\u001b[38;5;124;43m\"\u001b[39;49m\u001b[43m,\u001b[49m\n\u001b[1;32m    618\u001b[0m \u001b[43m        \u001b[49m\u001b[43maccept_large_sparse\u001b[49m\u001b[38;5;241;43m=\u001b[39;49m\u001b[38;5;28;43;01mFalse\u001b[39;49;00m\u001b[43m,\u001b[49m\n\u001b[1;32m    619\u001b[0m \u001b[43m        \u001b[49m\u001b[43mreset\u001b[49m\u001b[38;5;241;43m=\u001b[39;49m\u001b[38;5;28;43;01mFalse\u001b[39;49;00m\u001b[43m,\u001b[49m\n\u001b[1;32m    620\u001b[0m \u001b[43m    \u001b[49m\u001b[43m)\u001b[49m\n\u001b[1;32m    622\u001b[0m \u001b[38;5;28;01mif\u001b[39;00m \u001b[38;5;28mself\u001b[39m\u001b[38;5;241m.\u001b[39m_sparse \u001b[38;5;129;01mand\u001b[39;00m \u001b[38;5;129;01mnot\u001b[39;00m sp\u001b[38;5;241m.\u001b[39misspmatrix(X):\n\u001b[1;32m    623\u001b[0m     X \u001b[38;5;241m=\u001b[39m sp\u001b[38;5;241m.\u001b[39mcsr_matrix(X)\n",
      "File \u001b[0;32m~/opt/anaconda3/envs/tensorflow_m1/lib/python3.9/site-packages/sklearn/base.py:569\u001b[0m, in \u001b[0;36mBaseEstimator._validate_data\u001b[0;34m(self, X, y, reset, validate_separately, **check_params)\u001b[0m\n\u001b[1;32m    566\u001b[0m     out \u001b[38;5;241m=\u001b[39m X, y\n\u001b[1;32m    568\u001b[0m \u001b[38;5;28;01mif\u001b[39;00m \u001b[38;5;129;01mnot\u001b[39;00m no_val_X \u001b[38;5;129;01mand\u001b[39;00m check_params\u001b[38;5;241m.\u001b[39mget(\u001b[38;5;124m\"\u001b[39m\u001b[38;5;124mensure_2d\u001b[39m\u001b[38;5;124m\"\u001b[39m, \u001b[38;5;28;01mTrue\u001b[39;00m):\n\u001b[0;32m--> 569\u001b[0m     \u001b[38;5;28;43mself\u001b[39;49m\u001b[38;5;241;43m.\u001b[39;49m\u001b[43m_check_n_features\u001b[49m\u001b[43m(\u001b[49m\u001b[43mX\u001b[49m\u001b[43m,\u001b[49m\u001b[43m \u001b[49m\u001b[43mreset\u001b[49m\u001b[38;5;241;43m=\u001b[39;49m\u001b[43mreset\u001b[49m\u001b[43m)\u001b[49m\n\u001b[1;32m    571\u001b[0m \u001b[38;5;28;01mreturn\u001b[39;00m out\n",
      "File \u001b[0;32m~/opt/anaconda3/envs/tensorflow_m1/lib/python3.9/site-packages/sklearn/base.py:370\u001b[0m, in \u001b[0;36mBaseEstimator._check_n_features\u001b[0;34m(self, X, reset)\u001b[0m\n\u001b[1;32m    367\u001b[0m     \u001b[38;5;28;01mreturn\u001b[39;00m\n\u001b[1;32m    369\u001b[0m \u001b[38;5;28;01mif\u001b[39;00m n_features \u001b[38;5;241m!=\u001b[39m \u001b[38;5;28mself\u001b[39m\u001b[38;5;241m.\u001b[39mn_features_in_:\n\u001b[0;32m--> 370\u001b[0m     \u001b[38;5;28;01mraise\u001b[39;00m \u001b[38;5;167;01mValueError\u001b[39;00m(\n\u001b[1;32m    371\u001b[0m         \u001b[38;5;124mf\u001b[39m\u001b[38;5;124m\"\u001b[39m\u001b[38;5;124mX has \u001b[39m\u001b[38;5;132;01m{\u001b[39;00mn_features\u001b[38;5;132;01m}\u001b[39;00m\u001b[38;5;124m features, but \u001b[39m\u001b[38;5;132;01m{\u001b[39;00m\u001b[38;5;28mself\u001b[39m\u001b[38;5;241m.\u001b[39m\u001b[38;5;18m__class__\u001b[39m\u001b[38;5;241m.\u001b[39m\u001b[38;5;18m__name__\u001b[39m\u001b[38;5;132;01m}\u001b[39;00m\u001b[38;5;124m \u001b[39m\u001b[38;5;124m\"\u001b[39m\n\u001b[1;32m    372\u001b[0m         \u001b[38;5;124mf\u001b[39m\u001b[38;5;124m\"\u001b[39m\u001b[38;5;124mis expecting \u001b[39m\u001b[38;5;132;01m{\u001b[39;00m\u001b[38;5;28mself\u001b[39m\u001b[38;5;241m.\u001b[39mn_features_in_\u001b[38;5;132;01m}\u001b[39;00m\u001b[38;5;124m features as input.\u001b[39m\u001b[38;5;124m\"\u001b[39m\n\u001b[1;32m    373\u001b[0m     )\n",
      "\u001b[0;31mValueError\u001b[0m: X has 5 features, but SVC is expecting 2560 features as input."
     ]
    }
   ],
   "source": [
    "y_pred = qsvc2.predict(sample_test)\n",
    "accuracy3 = qsvc2.score(label_test, y_pred)\n",
    "print(f'Accuracy2 for training dataset: {accuracy3}')"
   ]
  },
  {
   "cell_type": "code",
   "execution_count": 113,
   "id": "15121b80",
   "metadata": {},
   "outputs": [
    {
     "name": "stdout",
     "output_type": "stream",
     "text": [
      "Class 0: Precision=0.4665551839464883, Recall=0.4442675159235669, F1 Score=0.4551386623164763\n",
      "Class 1: Precision=0.4547069271758437, Recall=0.3993759750390016, F1 Score=0.42524916943521596\n",
      "Class 2: Precision=0.43342036553524804, Recall=0.5068702290076336, F1 Score=0.4672765657987333\n",
      "Class 3: Precision=0.4676145339652449, Recall=0.46540880503144655, F1 Score=0.4665090622537431\n",
      "Macro-averaged Precision: 0.4555742526557062, Recall: 0.4539806312504121, F1 Score: 0.45354336495104214\n"
     ]
    }
   ],
   "source": [
    "from sklearn.metrics import precision_recall_fscore_support\n",
    "\n",
    "# Assuming you have 'y_pred' as the predicted labels for the training data\n",
    "y_pred = qsvc2.predict(matrix_train)\n",
    "\n",
    "# Calculate precision, recall, and F1 score\n",
    "precision, recall, f1_score, _ = precision_recall_fscore_support(labels_train, y_pred, average=None)\n",
    "\n",
    "# Print precision, recall, and F1 score for each class\n",
    "for label in range(4):  # Assuming there are 4 classes (0, 1, 2, 3)\n",
    "    print(f\"Class {label}: Precision={precision[label]}, Recall={recall[label]}, F1 Score={f1_score[label]}\")\n",
    "\n",
    "# Calculate overall precision, recall, and F1 score\n",
    "macro_precision, macro_recall, macro_f1_score, _ = precision_recall_fscore_support(labels_train, y_pred, average='macro')\n",
    "print(f\"Macro-averaged Precision: {macro_precision}, Recall: {macro_recall}, F1 Score: {macro_f1_score}\")"
   ]
  },
  {
   "cell_type": "code",
   "execution_count": 99,
   "id": "272750cc",
   "metadata": {},
   "outputs": [
    {
     "data": {
      "image/png": "[encoded data removed]",
      "text/plain": [
       "<Figure size 576x432 with 2 Axes>"
      ]
     },
     "metadata": {
      "needs_background": "light"
     },
     "output_type": "display_data"
    }
   ],
   "source": [
    "from sklearn.metrics import confusion_matrix\n",
    "import matplotlib.pyplot as plt\n",
    "\n",
    "# Create a confusion matrix\n",
    "confusion = confusion_matrix(labels_val, y_pred)\n",
    "\n",
    "# Plot the confusion matrix\n",
    "plt.figure(figsize=(8, 6))\n",
    "sns.heatmap(confusion, annot=True, fmt=\"d\", cmap=\"Blues\", linewidths=0.5)\n",
    "plt.title(\"Confusion Matrix\")\n",
    "plt.xlabel(\"Predicted Labels\")\n",
    "plt.ylabel(\"True Labels\")\n",
    "plt.savefig(\"Confusion_Matrix_SVM.png\")\n",
    "plt.show()"
   ]
  },
  {
   "cell_type": "markdown",
   "id": "8fd20d4e",
   "metadata": {},
   "source": [
    "### Single label Prediction - SVC with Quantum Kernel"
   ]
  },
  {
   "cell_type": "code",
   "execution_count": 201,
   "id": "e3ef7800",
   "metadata": {},
   "outputs": [
    {
     "name": "stdout",
     "output_type": "stream",
     "text": [
      "Accuracy for training dataset: 0.8969729155602761\n",
      "Accuracy of val discriminating between label 0 and others: 75.14792899408283%\n"
     ]
    }
   ],
   "source": [
    "labels_train_0 = np.where(labels_train==1, 1, 0)\n",
    "labels_val_0 = np.where(labels_val==1, 1, 0)\n",
    "pauli_map_0 = PauliFeatureMap(feature_dimension=N_DIM, reps=2, paulis = ['X', 'Y', 'ZZ'])\n",
    "pauli_kernel_0 = QuantumKernel(feature_map=pauli_map_0, quantum_instance=Aer.get_backend('statevector_simulator'))\n",
    "\n",
    "pauli_svc_0 = SVC(kernel='precomputed', probability=True)\n",
    "\n",
    "matrix_train_0 = pauli_kernel_0.evaluate(x_vec=sample_train)\n",
    "pauli_svc_0.fit(matrix_train_0, labels_train_0)\n",
    "zzpc_score_0_train = pauli_svc_0.score(matrix_train_0, labels_train_0)\n",
    "print(f'Accuracy for training dataset: {zzpc_score_0_train}')\n",
    "\n",
    "matrix_val_0 = pauli_kernel_0.evaluate(x_vec=sample_val, y_vec=sample_train)\n",
    "pauli_score_0 = pauli_svc_0.score(matrix_val_0, labels_val_0)\n",
    "print(f'Accuracy of val discriminating between label 0 and others: {pauli_score_0*100}%')"
   ]
  },
  {
   "cell_type": "code",
   "execution_count": 72,
   "id": "709612b9",
   "metadata": {
    "scrolled": true
   },
   "outputs": [
    {
     "name": "stdout",
     "output_type": "stream",
     "text": [
      "Probability of label 0: [0.32 0.33 0.31 0.31 0.43 0.24 0.3  0.41 0.37 0.29 0.34 0.5  0.32 0.31\n",
      " 0.28 0.3  0.31 0.3  0.34 0.28 0.27 0.46 0.31 0.28 0.29 0.35 0.41 0.34\n",
      " 0.29 0.34 0.29 0.39 0.36 0.43 0.27 0.41 0.34 0.28 0.39 0.4  0.4  0.34\n",
      " 0.29 0.34 0.34 0.41 0.35 0.36 0.33 0.28 0.35 0.32 0.29 0.34 0.33 0.38\n",
      " 0.84 0.28 0.33 0.4  0.25 0.27 0.42 0.35 0.29 0.44 0.22 0.27 0.29 0.33\n",
      " 0.27 0.36 0.27 0.44 0.28 0.37 0.26 0.28 0.35 0.29 0.41 0.31 0.3  0.28\n",
      " 0.3  0.3  0.26 0.33 0.31 0.75 0.32 0.27 0.46 0.4  0.32 0.3  0.46 0.27\n",
      " 0.3  0.45 0.28 0.26 0.63 0.31 0.32 0.32 0.31 0.32 0.31 0.28 0.28 0.37\n",
      " 0.43 0.28 0.29 0.29 0.33 0.31 0.27 0.31 0.34 0.4  0.3  0.27 0.4  0.29\n",
      " 0.42 0.3  0.3  0.34 0.3  0.3  0.41 0.39 0.21 0.39 0.28 0.31 0.36 0.28\n",
      " 0.3  0.22 0.28 0.29 0.3  0.21 0.3  0.27 0.28 0.42 0.41 0.3  0.3  0.35\n",
      " 0.29 0.31 0.31 0.33 0.37 0.31 0.27 0.37 0.26 0.35 0.37 0.28 0.31 0.38\n",
      " 0.33 0.32 0.3  0.63 0.29 0.37 0.27 0.3  0.29 0.34 0.25 0.62 0.31 0.31\n",
      " 0.28 0.34 0.26 0.35 0.33 0.3  0.33 0.35 0.28 0.31 0.38 0.22 0.33 0.35\n",
      " 0.26 0.3  0.37 0.31 0.26 0.25 0.32 0.35 0.22 0.34 0.33 0.34 0.32 0.46\n",
      " 0.4  0.28 0.36 0.27 0.3  0.44 0.47 0.28 0.42 0.26 0.29 0.31 0.33 0.56\n",
      " 0.34 0.29 0.3  0.29 0.39 0.41 0.34 0.26 0.42 0.47 0.36 0.28 0.37 0.38\n",
      " 0.32 0.37 0.32 0.26 0.6  0.34 0.34 0.28 0.33 0.38 0.33 0.31 0.39 0.35\n",
      " 0.35 0.3  0.43 0.38 0.33 0.3  0.37 0.33 0.24 0.33 0.36 0.29 0.3  0.32\n",
      " 0.35 0.32 0.3  0.52 0.32 0.31 0.29 0.4  0.31 0.28 0.56 0.34 0.32 0.25\n",
      " 0.44 0.7  0.26 0.2  0.29 0.3  0.37 0.25 0.25 0.24 0.43 0.38 0.36 0.31\n",
      " 0.3  0.26 0.29 0.33 0.32 0.33 0.23 0.31 0.29 0.27 0.36 0.47 0.37 0.38\n",
      " 0.26 0.31 0.43 0.32 0.33 0.31 0.28 0.3  0.24 0.33 0.31 0.32 0.28 0.34\n",
      " 0.26 0.35 0.28 0.3  0.3  0.45 0.3  0.3  0.28 0.31 0.3  0.33 0.34 0.31\n",
      " 0.34 0.23 0.34 0.39 0.27 0.32 0.28 0.42 0.33 0.31 0.3  0.3  0.3  0.26\n",
      " 0.56 0.31 0.49 0.31 0.29 0.27 0.5  0.3  0.29 0.28 0.3  0.28 0.25 0.31\n",
      " 0.26 0.28 0.29 0.3  0.32 0.34 0.44 0.29 0.31 0.31 0.35 0.44 0.34 0.28\n",
      " 0.32 0.28 0.36 0.3  0.3  0.33 0.33 0.33 0.32 0.33 0.29 0.28 0.45 0.26\n",
      " 0.29 0.67 0.25 0.38 0.25 0.29 0.28 0.32 0.44 0.27 0.41 0.45 0.31 0.4\n",
      " 0.28 0.33 0.35 0.3  0.3  0.35 0.57 0.28 0.4  0.37 0.33 0.28 0.29 0.36\n",
      " 0.3  0.29 0.29 0.33 0.28 0.31 0.33 0.36 0.63 0.43 0.43 0.31 0.31 0.26\n",
      " 0.41 0.32 0.3  0.36 0.26 0.31 0.33 0.4  0.31 0.34 0.29 0.31 0.35 0.29\n",
      " 0.33 0.33 0.29 0.32 0.3  0.33 0.3  0.31 0.3  0.29 0.29 0.31 0.35 0.34\n",
      " 0.34 0.3  0.3  0.26 0.35 0.46 0.32 0.33 0.35 0.38 0.33 0.27 0.39 0.3\n",
      " 0.31 0.24 0.26 0.3  0.32 0.56 0.5  0.4  0.29 0.31 0.33 0.29 0.31 0.34\n",
      " 0.35 0.28 0.31 0.37 0.43 0.37 0.29 0.36 0.43 0.34 0.31 0.3  0.28 0.28\n",
      " 0.33 0.3  0.37 0.38 0.26 0.29 0.35 0.32 0.3  0.33 0.27 0.34 0.4  0.25\n",
      " 0.31 0.33 0.38 0.23 0.31 0.39 0.37 0.29 0.36 0.31 0.35 0.34 0.26 0.28\n",
      " 0.28 0.43 0.28 0.44 0.28 0.32 0.32 0.36 0.27 0.35 0.31 0.48 0.32 0.29\n",
      " 0.34 0.29 0.38 0.29 0.38 0.31 0.35 0.3  0.31 0.34 0.33 0.32 0.27 0.35\n",
      " 0.32 0.31 0.27 0.36 0.3  0.57 0.34 0.34 0.3  0.29 0.33 0.25 0.38 0.22\n",
      " 0.3  0.36 0.42 0.29 0.35 0.31 0.35 0.26 0.32 0.35 0.28 0.34 0.25 0.28\n",
      " 0.35 0.31 0.31 0.29 0.27 0.37 0.3  0.37 0.38 0.26 0.36 0.29 0.28 0.28\n",
      " 0.29 0.25 0.31 0.29 0.35 0.48 0.31 0.34 0.25 0.34 0.31 0.29 0.29 0.25\n",
      " 0.41 0.29 0.36 0.35 0.22 0.36 0.22 0.54]\n"
     ]
    }
   ],
   "source": [
    "matrix_test_0 = pauli_kernel_0.evaluate(x_vec=sample_test, y_vec=sample_train)\n",
    "pred_0 = pauli_svc_0.predict_proba(matrix_test_0)[:, 1]\n",
    "print(f'Probability of label 0: {np.round(pred_0, 2)}')"
   ]
  },
  {
   "cell_type": "code",
   "execution_count": 198,
   "id": "caf68793",
   "metadata": {},
   "outputs": [
    {
     "name": "stdout",
     "output_type": "stream",
     "text": [
      "Accuracy for training dataset: 0.9298990971853426\n",
      "Accuracy for validation dataset: 0.7514792899408284\n"
     ]
    }
   ],
   "source": [
    "##############################\n",
    "# Provide your code here\n",
    "labels_train_2 = np.where(labels_train==2, 1, 0)\n",
    "labels_val_2 = np.where(labels_val==2, 1, 0)\n",
    "\n",
    "zz_map_2 = ZZFeatureMap(feature_dimension=N_DIM, reps=2, entanglement='linear', insert_barriers=True)\n",
    "zz_kernel_2 = QuantumKernel(feature_map=zz_map_2, quantum_instance=Aer.get_backend('statevector_simulator'))\n",
    "\n",
    "zzpc_svc_2 = SVC(kernel='precomputed', probability=True)\n",
    "\n",
    "matrix_train_2 = zz_kernel_2.evaluate(x_vec=sample_train)\n",
    "zzpc_svc_2.fit(matrix_train_2, labels_train_2)\n",
    "zzpc_score_2_train = zzpc_svc_2.score(matrix_train_2, labels_train_2)\n",
    "print(f'Accuracy for training dataset: {zzpc_score_2_train}')\n",
    "\n",
    "matrix_val_2 = zz_kernel_2.evaluate(x_vec=sample_val, y_vec=sample_train)\n",
    "zzpc_score_2 = zzpc_svc_2.score(matrix_val_2, labels_val_2)\n",
    "print(f'Accuracy for validation dataset: {zzpc_score_2}')\n",
    "\n",
    "matrix_test_2 = zz_kernel_2.evaluate(x_vec=sample_test, y_vec=sample_train)\n",
    "pred_2 = zzpc_svc_2.predict_proba(matrix_test_2)[:, 1]\n",
    "\n",
    "\n",
    "##############################"
   ]
  },
  {
   "cell_type": "code",
   "execution_count": 14,
   "id": "e4d30e2f",
   "metadata": {
    "scrolled": true
   },
   "outputs": [
    {
     "ename": "NameError",
     "evalue": "name 'pred_2' is not defined",
     "output_type": "error",
     "traceback": [
      "\u001b[0;31m---------------------------------------------------------------------------\u001b[0m",
      "\u001b[0;31mNameError\u001b[0m                                 Traceback (most recent call last)",
      "Input \u001b[0;32mIn [14]\u001b[0m, in \u001b[0;36m<cell line: 3>\u001b[0;34m()\u001b[0m\n\u001b[1;32m      1\u001b[0m \u001b[38;5;66;03m# Set a threshold to classify samples\u001b[39;00m\n\u001b[1;32m      2\u001b[0m threshold \u001b[38;5;241m=\u001b[39m \u001b[38;5;241m0.5\u001b[39m\n\u001b[0;32m----> 3\u001b[0m binary_predictions \u001b[38;5;241m=\u001b[39m (\u001b[43mpred_2\u001b[49m \u001b[38;5;241m>\u001b[39m threshold)\u001b[38;5;241m.\u001b[39mastype(\u001b[38;5;28mint\u001b[39m)\n\u001b[1;32m      5\u001b[0m \u001b[38;5;66;03m# Compute the confusion matrix\u001b[39;00m\n\u001b[1;32m      6\u001b[0m confusion \u001b[38;5;241m=\u001b[39m confusion_matrix(labels_val_2, binary_predictions)\n",
      "\u001b[0;31mNameError\u001b[0m: name 'pred_2' is not defined"
     ]
    }
   ],
   "source": [
    "# Set a threshold to classify samples\n",
    "threshold = 0.5\n",
    "binary_predictions = (pred_2 > threshold).astype(int)\n",
    "\n",
    "# Compute the confusion matrix\n",
    "confusion = confusion_matrix(labels_val_2, binary_predictions)\n",
    "\n",
    "# Print the confusion matrix\n",
    "print(\"Confusion Matrix:\")\n",
    "print(confusion)"
   ]
  },
  {
   "cell_type": "code",
   "execution_count": 74,
   "id": "2b1a4356",
   "metadata": {},
   "outputs": [
    {
     "data": {
      "text/plain": [
       "array([0.07086556, 0.06424075, 0.06667864, 0.06387431, 0.06654123,\n",
       "       0.06271046, 0.06114851, 0.07890812, 0.07019718, 0.06513616,\n",
       "       0.06676615, 0.06539885, 0.0731849 , 0.06889389, 0.07056823,\n",
       "       0.06625552, 0.06515081, 0.06605548, 0.0635661 , 0.06459   ,\n",
       "       0.06503411, 0.06527948, 0.07711197, 0.0641016 , 0.03560314,\n",
       "       0.07580537, 0.07071342, 0.07392562, 0.0837756 , 0.06374346,\n",
       "       0.06404643, 0.06358795, 0.06693868, 0.06610635, 0.07099561,\n",
       "       0.06907298, 0.07178703, 0.0657799 , 0.06862538, 0.06567058,\n",
       "       0.07658951, 0.06726133, 0.07062479, 0.06608691, 0.06662731,\n",
       "       0.07904173, 0.06505217, 0.06609563, 0.06556653, 0.06624775,\n",
       "       0.06684731, 0.06513897, 0.05349282, 0.06528358, 0.06440389,\n",
       "       0.08324752, 0.07593495, 0.06400263, 0.05925591, 0.06795454,\n",
       "       0.07799366, 0.07133952, 0.06942   , 0.06375196, 0.06395474,\n",
       "       0.05808143, 0.06207302, 0.06444235, 0.06749205, 0.06882141,\n",
       "       0.10288285, 0.06600404, 0.06404267, 0.0655758 , 0.07162143,\n",
       "       0.07112035, 0.06390076, 0.06421404, 0.06603544, 0.06424492,\n",
       "       0.06507089, 0.06437594, 0.06649529, 0.06488295, 0.06589748,\n",
       "       0.06805853, 0.08369359, 0.10098482, 0.0681762 , 0.06426208,\n",
       "       0.06415739, 0.06624329, 0.08450679, 0.07040863, 0.0652993 ,\n",
       "       0.0674866 , 0.06937166, 0.07163387, 0.06971616, 0.06515594,\n",
       "       0.06549591, 0.06434635, 0.07378366, 0.0643396 , 0.0749459 ,\n",
       "       0.0669849 , 0.0981384 , 0.06667739, 0.06663579, 0.06544918,\n",
       "       0.06796144, 0.07430048, 0.11093061, 0.05874917, 0.06499915,\n",
       "       0.06515554, 0.06493764, 0.06547169, 0.06887344, 0.07150718,\n",
       "       0.07555999, 0.06534817, 0.06636496, 0.08749055, 0.06483572,\n",
       "       0.06403582, 0.06582101, 0.06494955, 0.06480287, 0.0661335 ,\n",
       "       0.06445157, 0.06541107, 0.06480288, 0.06622031, 0.06532102,\n",
       "       0.07869916, 0.06923811, 0.06502281, 0.0613549 , 0.06545971,\n",
       "       0.06487511, 0.06735501, 0.06455108, 0.06087366, 0.08838511,\n",
       "       0.06539015, 0.06745315, 0.06761485, 0.0648073 , 0.06911067,\n",
       "       0.06545044, 0.07287848, 0.07386959, 0.06905462, 0.06087366,\n",
       "       0.06840856, 0.06413878, 0.06473769, 0.07062456, 0.0602047 ,\n",
       "       0.0656528 , 0.0648818 , 0.06665685, 0.0647005 , 0.07049654,\n",
       "       0.06931539, 0.06516256, 0.08122761, 0.06467495, 0.06591821,\n",
       "       0.08798523, 0.09717793, 0.06674859, 0.06604771, 0.06854734,\n",
       "       0.06483756, 0.06454151, 0.06612177, 0.06418054, 0.06964295,\n",
       "       0.06308409, 0.06692669, 0.07013831, 0.06470429, 0.06495232,\n",
       "       0.06483142, 0.06574551, 0.03819584, 0.06498152, 0.06404493,\n",
       "       0.06705275, 0.06510095, 0.06645384, 0.06603291, 0.07401541,\n",
       "       0.06600771, 0.06514015, 0.07494793, 0.0636791 , 0.06441288,\n",
       "       0.0644951 , 0.06421372, 0.08954249, 0.07015102, 0.06701899,\n",
       "       0.07626509, 0.06474145, 0.0640905 , 0.06456754, 0.06387201,\n",
       "       0.07236307, 0.05874917, 0.06653744, 0.07071606, 0.06491272,\n",
       "       0.08083392, 0.07068392, 0.06489711, 0.06462251, 0.05874745,\n",
       "       0.06003138, 0.06451846, 0.07367801, 0.09879995, 0.06554213,\n",
       "       0.06472648, 0.06102725, 0.06582203, 0.06378328, 0.06547055,\n",
       "       0.0847292 , 0.06616913, 0.06916801, 0.06784822, 0.09077742,\n",
       "       0.0730823 , 0.07111182, 0.07056083, 0.06472797, 0.06581703,\n",
       "       0.06640247, 0.06620406, 0.07016683, 0.06527994, 0.05688498,\n",
       "       0.06482251, 0.06748629, 0.0820531 , 0.06849769, 0.06467661,\n",
       "       0.06860638, 0.06553597, 0.08081227, 0.07067822, 0.06807905,\n",
       "       0.06828148, 0.0663267 , 0.06397637, 0.06627898, 0.07995802,\n",
       "       0.06478809, 0.07786861, 0.0685948 , 0.06443846, 0.06037988,\n",
       "       0.06784123, 0.06470079, 0.065629  , 0.07087688, 0.071899  ,\n",
       "       0.0664952 , 0.06419062, 0.06458539, 0.06476156, 0.09002275,\n",
       "       0.06419183, 0.08377601, 0.0661393 , 0.0656307 , 0.06445171,\n",
       "       0.06672059, 0.07601678, 0.06367241, 0.06158108, 0.0641546 ,\n",
       "       0.06527317, 0.06506201, 0.06581935, 0.0643496 , 0.07552216,\n",
       "       0.07554492, 0.06939375, 0.06479873, 0.06208879, 0.06445987,\n",
       "       0.06215163, 0.076452  , 0.0654728 , 0.06437831, 0.06603844,\n",
       "       0.07194821, 0.06365337, 0.06317963, 0.07867285, 0.0702993 ,\n",
       "       0.07140857, 0.06408505, 0.06438903, 0.06420217, 0.07142778,\n",
       "       0.07619818, 0.06489702, 0.07841832, 0.06421316, 0.08566194,\n",
       "       0.06468218, 0.06129637, 0.06377606, 0.06759167, 0.04765909,\n",
       "       0.06988355, 0.06333675, 0.06501803, 0.06702911, 0.06433975,\n",
       "       0.07759614, 0.0660179 , 0.06552887, 0.06375914, 0.06419619,\n",
       "       0.06487762, 0.06469313, 0.06423423, 0.06812888, 0.05421443,\n",
       "       0.06667956, 0.07616607, 0.07500579, 0.06473034, 0.07168536,\n",
       "       0.06448156, 0.07843172, 0.06430546, 0.06680987, 0.06707793,\n",
       "       0.06580475, 0.06421072, 0.06581112, 0.06532776, 0.06503699,\n",
       "       0.06756115, 0.06398703, 0.08214476, 0.06729152, 0.07778048,\n",
       "       0.0638484 , 0.06483369, 0.06515518, 0.06404353, 0.0990454 ,\n",
       "       0.06469903, 0.06649112, 0.06472074, 0.06547914, 0.06196479,\n",
       "       0.06488906, 0.07015276, 0.07494793, 0.06428933, 0.06464019,\n",
       "       0.07026129, 0.06465813, 0.06590409, 0.06439761, 0.06412436,\n",
       "       0.06609978, 0.06112785, 0.06470573, 0.06422803, 0.0653409 ,\n",
       "       0.06409867, 0.06484971, 0.06600109, 0.064893  , 0.06773972,\n",
       "       0.06565428, 0.06557554, 0.06512066, 0.06512597, 0.06448052,\n",
       "       0.07342644, 0.06605084, 0.07213165, 0.0754497 , 0.06776719,\n",
       "       0.07643825, 0.06392465, 0.06486927, 0.06502921, 0.06525868,\n",
       "       0.06574878, 0.07161349, 0.07061573, 0.06804103, 0.07232518,\n",
       "       0.06501515, 0.06636508, 0.06677782, 0.06444797, 0.06521988,\n",
       "       0.06764817, 0.06514501, 0.08704327, 0.06587581, 0.07415858,\n",
       "       0.06805141, 0.06611306, 0.06568595, 0.06609107, 0.06718058,\n",
       "       0.06319929, 0.06553462, 0.06389874, 0.06538558, 0.06587581,\n",
       "       0.06441638, 0.06539979, 0.06655016, 0.06975512, 0.07860871,\n",
       "       0.06429194, 0.08322894, 0.06653615, 0.06449667, 0.06509961,\n",
       "       0.08338187, 0.06479217, 0.06327213, 0.06150579, 0.06510236,\n",
       "       0.08142422, 0.06502938, 0.06580139, 0.06640738, 0.06767784,\n",
       "       0.07509599, 0.06361313, 0.06136391, 0.06726317, 0.07781324,\n",
       "       0.06426594, 0.066623  , 0.06452644, 0.06568139, 0.06419694,\n",
       "       0.06633795, 0.06468598, 0.06636548, 0.0626745 , 0.0659965 ,\n",
       "       0.0713134 , 0.06528358, 0.06808086, 0.06560729, 0.07340157,\n",
       "       0.06003815, 0.06307733, 0.06651135, 0.06477251, 0.06653102,\n",
       "       0.07372023, 0.06631715, 0.06465137, 0.08111387, 0.08223651,\n",
       "       0.06892757, 0.06593288, 0.07031107, 0.07822417, 0.06922292,\n",
       "       0.06038608, 0.06018556, 0.06812084, 0.07617465, 0.06387951,\n",
       "       0.06640235, 0.07997249, 0.06387951, 0.06510845, 0.06677961,\n",
       "       0.07275327, 0.06444144, 0.06591826, 0.08542234, 0.0693727 ,\n",
       "       0.06822077, 0.06984721, 0.07151298, 0.06534662, 0.0662176 ,\n",
       "       0.06613058, 0.06776787, 0.06535226, 0.06453807, 0.06944611,\n",
       "       0.06485559, 0.06802316, 0.06522317, 0.06797635, 0.07986074,\n",
       "       0.07171727, 0.06357556, 0.06690433, 0.06612747, 0.06391461,\n",
       "       0.06548344, 0.06206609, 0.06583183, 0.06590221, 0.06610406,\n",
       "       0.06979137, 0.07035485, 0.06499772, 0.0696723 , 0.0754155 ,\n",
       "       0.06697271, 0.06912665, 0.07118122, 0.05631061, 0.06726933,\n",
       "       0.11521764, 0.06708632, 0.06463479, 0.0651098 , 0.06698837,\n",
       "       0.06409619, 0.06496321, 0.06303362, 0.06490726, 0.06527711,\n",
       "       0.0648914 , 0.06551873, 0.07321664, 0.06386674, 0.06444562,\n",
       "       0.06697271, 0.08220425, 0.06544889, 0.06531303, 0.06371738,\n",
       "       0.06857239, 0.06748339, 0.06525432, 0.06687669, 0.06543921,\n",
       "       0.06453485, 0.06768235, 0.07160961, 0.06444261, 0.06756652,\n",
       "       0.06464095, 0.06711166, 0.06424581, 0.06613458, 0.06547225,\n",
       "       0.06151999, 0.0660153 , 0.06380623, 0.06562002, 0.07300705,\n",
       "       0.08046474, 0.07327723, 0.06229713, 0.06986008, 0.06581016,\n",
       "       0.06568221, 0.07056753, 0.0647858 , 0.06313005, 0.07164101,\n",
       "       0.06554726, 0.0660785 , 0.06540074, 0.06296629, 0.06558525,\n",
       "       0.06650083, 0.06392465, 0.07056346, 0.06333946, 0.06597669,\n",
       "       0.06305824, 0.06357026, 0.06540724, 0.07215562, 0.065386  ,\n",
       "       0.07509369, 0.0657753 , 0.06185546, 0.06644738, 0.07413215,\n",
       "       0.06449967, 0.09222412, 0.06636548, 0.07045405, 0.06495613,\n",
       "       0.0646539 , 0.06451741, 0.0743449 , 0.06584101, 0.06473117,\n",
       "       0.0697524 , 0.07220322, 0.06564306, 0.0641125 , 0.06519851,\n",
       "       0.06566647, 0.07312207, 0.0643936 , 0.06454329, 0.06150239,\n",
       "       0.04849367, 0.06748387, 0.06630726, 0.06491913])"
      ]
     },
     "execution_count": 74,
     "metadata": {},
     "output_type": "execute_result"
    }
   ],
   "source": [
    "pred_2 "
   ]
  },
  {
   "cell_type": "code",
   "execution_count": 199,
   "id": "33b2cf89",
   "metadata": {},
   "outputs": [
    {
     "name": "stdout",
     "output_type": "stream",
     "text": [
      "Accuracy for training dataset: 0.7055231014338821\n",
      "Accuracy for validation dataset: 0.6923076923076923\n"
     ]
    }
   ],
   "source": [
    "##############################\n",
    "# Provide your code here\n",
    "\n",
    "\n",
    "labels_train_3 = np.where(labels_train==3, 1, 0)\n",
    "labels_val_3 = np.where(labels_val==3, 1, 0)\n",
    "\n",
    "zz_map_3 = ZZFeatureMap(feature_dimension=N_DIM, reps=2, entanglement='linear', insert_barriers=True)\n",
    "zz_kernel_3 = QuantumKernel(feature_map=zz_map_3, quantum_instance=Aer.get_backend('statevector_simulator'))\n",
    "\n",
    "zzpc_svc_3 = SVC(kernel='precomputed', probability=True)\n",
    "\n",
    "matrix_train_3 = zz_kernel_3.evaluate(x_vec=sample_train)\n",
    "zzpc_svc_3.fit(matrix_train_3, labels_train_3)\n",
    "zzpc_score_3_train = zzpc_svc_3.score(matrix_train_3, labels_train_3)\n",
    "print(f'Accuracy for training dataset: {zzpc_score_3_train}')\n",
    "\n",
    "matrix_val_3 = zz_kernel_3.evaluate(x_vec=sample_val, y_vec=sample_train)\n",
    "zzpc_score_3 = zzpc_svc_3.score(matrix_val_3, labels_val_3)\n",
    "print(f'Accuracy for validation dataset: {zzpc_score_3}')\n",
    "\n",
    "matrix_test_3 = zz_kernel_3.evaluate(x_vec=sample_test, y_vec=sample_train)\n",
    "pred_3 = zzpc_svc_3.predict_proba(matrix_test_3)[:, 1]\n",
    "\n",
    "\n",
    "##############################"
   ]
  },
  {
   "cell_type": "code",
   "execution_count": 76,
   "id": "c5f6148e",
   "metadata": {
    "scrolled": true
   },
   "outputs": [
    {
     "data": {
      "text/plain": [
       "array([0.33441188, 0.61357049, 0.71991053, 0.44546349, 0.44466685,\n",
       "       0.54269887, 0.56958154, 0.40322336, 0.31296215, 0.67431832,\n",
       "       0.29175984, 0.54805583, 0.71860946, 0.60061227, 0.68527675,\n",
       "       0.76286884, 0.42810461, 0.70255756, 0.35120198, 0.56072794,\n",
       "       0.52504827, 0.25930977, 0.76442146, 0.77413361, 0.19195737,\n",
       "       0.31371444, 0.56068165, 0.22718939, 0.33759002, 0.28207424,\n",
       "       0.5       , 0.3866409 , 0.55596537, 0.4072856 , 0.69012926,\n",
       "       0.73303695, 0.41795859, 0.78319432, 0.26460116, 0.69958815,\n",
       "       0.7106854 , 0.64038327, 0.22974927, 0.40439214, 0.61991901,\n",
       "       0.37468247, 0.79688928, 0.50666037, 0.41288853, 0.64655996,\n",
       "       0.30285827, 0.38046432, 0.21002654, 0.09525014, 0.26540466,\n",
       "       0.61239862, 0.29060307, 0.48492978, 0.41544982, 0.54899196,\n",
       "       0.26241474, 0.77428362, 0.26123607, 0.5       , 0.75812545,\n",
       "       0.29752695, 0.44888022, 0.5571683 , 0.4728757 , 0.30661944,\n",
       "       0.35690767, 0.19260493, 0.76747615, 0.60532237, 0.26616136,\n",
       "       0.6874648 , 0.7220447 , 0.61623989, 0.60412643, 0.64647346,\n",
       "       0.20368038, 0.63553051, 0.75310383, 0.70367465, 0.71179097,\n",
       "       0.4778378 , 0.76162934, 0.64784734, 0.79628176, 0.33814761,\n",
       "       0.63140327, 0.70322505, 0.28652706, 0.26084759, 0.60270515,\n",
       "       0.22972274, 0.3401606 , 0.54174762, 0.44421806, 0.26175974,\n",
       "       0.74412812, 0.48433536, 0.28989059, 0.65846952, 0.35114051,\n",
       "       0.60238527, 0.7770264 , 0.61438706, 0.30940877, 0.56262372,\n",
       "       0.49219026, 0.5850068 , 0.512121  , 0.50542858, 0.79262243,\n",
       "       0.67562849, 0.63189345, 0.34414262, 0.82671444, 0.57506016,\n",
       "       0.34194496, 0.31091659, 0.573024  , 0.48784564, 0.26005648,\n",
       "       0.4592848 , 0.29834527, 0.72200476, 0.74136515, 0.64105148,\n",
       "       0.80255171, 0.6585977 , 0.16062337, 0.61553862, 0.62854379,\n",
       "       0.62474905, 0.23630218, 0.68368576, 0.44097775, 0.31082928,\n",
       "       0.62894819, 0.27687269, 0.61504304, 0.15538871, 0.77981728,\n",
       "       0.25524427, 0.6404273 , 0.33557464, 0.64661141, 0.30451949,\n",
       "       0.22849309, 0.35028477, 0.72018554, 0.59242919, 0.15538871,\n",
       "       0.26362403, 0.65093004, 0.37744323, 0.39732501, 0.46896597,\n",
       "       0.60524099, 0.80346256, 0.44792809, 0.76584475, 0.52841797,\n",
       "       0.39292553, 0.63450967, 0.2863423 , 0.69095806, 0.6460749 ,\n",
       "       0.41107079, 0.35565679, 0.72949058, 0.29879508, 0.46318444,\n",
       "       0.5705371 , 0.58251629, 0.69428732, 0.72374278, 0.24607707,\n",
       "       0.74157726, 0.66428158, 0.69601666, 0.43287995, 0.77918194,\n",
       "       0.50859684, 0.1934376 , 0.45818878, 0.60754365, 0.61137847,\n",
       "       0.37593799, 0.55683726, 0.33730393, 0.44846167, 0.4356934 ,\n",
       "       0.6164128 , 0.73409546, 0.67760714, 0.35412936, 0.45168921,\n",
       "       0.70899612, 0.69197027, 0.25024745, 0.34073159, 0.64707241,\n",
       "       0.42249633, 0.41640703, 0.21020263, 0.61438292, 0.24980552,\n",
       "       0.34704418, 0.50542858, 0.66142517, 0.34236982, 0.69883326,\n",
       "       0.59668674, 0.18217447, 0.64895836, 0.40059432, 0.39793647,\n",
       "       0.64984789, 0.76138379, 0.55584517, 0.24821326, 0.56578476,\n",
       "       0.52476177, 0.34152802, 0.54186933, 0.64870965, 0.5       ,\n",
       "       0.26760861, 0.61365594, 0.38420858, 0.17521129, 0.45728081,\n",
       "       0.45269617, 0.2608513 , 0.34583654, 0.15139333, 0.4350606 ,\n",
       "       0.62275136, 0.67115047, 0.48602066, 0.48431297, 0.18822425,\n",
       "       0.75972118, 0.57090302, 0.67265399, 0.68647221, 0.72403238,\n",
       "       0.29358778, 0.37578804, 0.41052365, 0.7696665 , 0.28470878,\n",
       "       0.60074559, 0.66683041, 0.57977156, 0.58153942, 0.27385596,\n",
       "       0.68506177, 0.65832391, 0.41414865, 0.2443305 , 0.66729664,\n",
       "       0.5       , 0.65702367, 0.60138577, 0.52263715, 0.24515443,\n",
       "       0.58802616, 0.44258272, 0.71090435, 0.54077031, 0.58144577,\n",
       "       0.76616059, 0.2570666 , 0.3980806 , 0.35496271, 0.77779318,\n",
       "       0.58211515, 0.35526927, 0.70757746, 0.36118355, 0.74497587,\n",
       "       0.70732353, 0.24221357, 0.42769075, 0.73360766, 0.6404751 ,\n",
       "       0.61609943, 0.61018625, 0.40164641, 0.38407934, 0.70501408,\n",
       "       0.1218345 , 0.38508192, 0.66785255, 0.30048847, 0.43494873,\n",
       "       0.32173715, 0.56235913, 0.35679226, 0.20212328, 0.32296797,\n",
       "       0.3304261 , 0.47284058, 0.33518648, 0.57714107, 0.47830172,\n",
       "       0.2688873 , 0.46948459, 0.24152894, 0.6477905 , 0.76015092,\n",
       "       0.56017108, 0.47141026, 0.6040558 , 0.80193475, 0.38829476,\n",
       "       0.80467282, 0.41769735, 0.77047299, 0.33456349, 0.70250007,\n",
       "       0.37289616, 0.33037844, 0.36856545, 0.40767336, 0.73936994,\n",
       "       0.77443075, 0.31136557, 0.4711682 , 0.10100656, 0.15830486,\n",
       "       0.29465348, 0.27588949, 0.47925434, 0.19599468, 0.47049936,\n",
       "       0.67307677, 0.6963215 , 0.64749704, 0.53517486, 0.34248792,\n",
       "       0.5608189 , 0.78724826, 0.55744302, 0.69661568, 0.67509309,\n",
       "       0.5       , 0.6471005 , 0.33252417, 0.70807388, 0.41910807,\n",
       "       0.47257077, 0.36500393, 0.41778549, 0.5       , 0.64326119,\n",
       "       0.66852317, 0.79088815, 0.63958431, 0.64746833, 0.60265754,\n",
       "       0.75742435, 0.45544523, 0.67760714, 0.60359386, 0.48990541,\n",
       "       0.26165647, 0.6327182 , 0.65601837, 0.77111109, 0.34265649,\n",
       "       0.57245218, 0.58497986, 0.70847489, 0.44188129, 0.70851192,\n",
       "       0.53101191, 0.69287595, 0.69928101, 0.33345302, 0.3962632 ,\n",
       "       0.64521111, 0.17815325, 0.51524165, 0.43648125, 0.79010343,\n",
       "       0.20333317, 0.36183691, 0.26133933, 0.5       , 0.32784791,\n",
       "       0.21218479, 0.78253477, 0.55768973, 0.25920872, 0.54368095,\n",
       "       0.31850603, 0.25077997, 0.5       , 0.54653452, 0.77050232,\n",
       "       0.28670398, 0.74991636, 0.79943779, 0.52446432, 0.58289769,\n",
       "       0.54055014, 0.73959165, 0.54357545, 0.65828258, 0.34983797,\n",
       "       0.41584819, 0.39462729, 0.12456882, 0.46984258, 0.64655275,\n",
       "       0.64994155, 0.47918254, 0.51683069, 0.59681316, 0.65828258,\n",
       "       0.61149317, 0.30483845, 0.40443352, 0.3660916 , 0.27919399,\n",
       "       0.23857454, 0.71111191, 0.42894207, 0.7478848 , 0.5427539 ,\n",
       "       0.40545786, 0.61373099, 0.18802841, 0.43938977, 0.64642041,\n",
       "       0.2455045 , 0.30114526, 0.71329555, 0.62000568, 0.72264977,\n",
       "       0.20498765, 0.45615056, 0.66514303, 0.29146899, 0.28627757,\n",
       "       0.51302185, 0.60920348, 0.78917241, 0.39059632, 0.80357689,\n",
       "       0.72226623, 0.6531549 , 0.63330238, 0.34398284, 0.71818623,\n",
       "       0.3925676 , 0.09525014, 0.41706905, 0.56100355, 0.48511597,\n",
       "       0.43849857, 0.44003228, 0.65175258, 0.81609324, 0.67958618,\n",
       "       0.46022794, 0.65922769, 0.67444621, 0.71601435, 0.51140944,\n",
       "       0.54659498, 0.70479083, 0.80143174, 0.32069113, 0.5       ,\n",
       "       0.70356232, 0.20461583, 0.55933327, 0.21905112, 0.77205549,\n",
       "       0.62448981, 0.21948441, 0.77205549, 0.64734602, 0.39794469,\n",
       "       0.65538904, 0.81536757, 0.52293632, 0.55696733, 0.15872941,\n",
       "       0.36339602, 0.38082002, 0.65954864, 0.44832957, 0.76213616,\n",
       "       0.52521717, 0.6040787 , 0.80700808, 0.62934862, 0.60844948,\n",
       "       0.82641949, 0.25083075, 0.2579608 , 0.33107904, 0.66067712,\n",
       "       0.16439412, 0.72610626, 0.6134715 , 0.31695472, 0.48209754,\n",
       "       0.42581367, 0.29616683, 0.59661892, 0.15184978, 0.69487018,\n",
       "       0.26576549, 0.3606661 , 0.56953462, 0.20682917, 0.5966368 ,\n",
       "       0.64497845, 0.40102553, 0.3052324 , 0.15599819, 0.79091108,\n",
       "       0.5351581 , 0.51224641, 0.29076501, 0.16774096, 0.58409619,\n",
       "       0.27816327, 0.66311454, 0.40094581, 0.17868434, 0.45059549,\n",
       "       0.47666196, 0.67473284, 0.6218347 , 0.42559116, 0.59781158,\n",
       "       0.64497845, 0.37290849, 0.52279257, 0.64741983, 0.73795614,\n",
       "       0.5       , 0.33948015, 0.52430013, 0.62920975, 0.68659913,\n",
       "       0.77595327, 0.61468782, 0.47128042, 0.71368821, 0.35408468,\n",
       "       0.61513509, 0.50502482, 0.74327231, 0.21926905, 0.76658775,\n",
       "       0.19686856, 0.69640403, 0.334765  , 0.51973674, 0.71026577,\n",
       "       0.68038773, 0.51427044, 0.43970033, 0.4453753 , 0.56803241,\n",
       "       0.52711698, 0.21106942, 0.51031958, 0.5       , 0.3882977 ,\n",
       "       0.33100652, 0.79746737, 0.72565755, 0.53558874, 0.61796151,\n",
       "       0.60732112, 0.78253477, 0.49425683, 0.29669856, 0.58356697,\n",
       "       0.77315107, 0.70768814, 0.42984319, 0.34226362, 0.77841203,\n",
       "       0.28332862, 0.21791654, 0.66117942, 0.41525023, 0.5978542 ,\n",
       "       0.73450321, 0.73022525, 0.63330238, 0.6556851 , 0.44439966,\n",
       "       0.67284443, 0.56902385, 0.52356513, 0.67019599, 0.71606919,\n",
       "       0.5       , 0.44772057, 0.68166187, 0.27261931, 0.46873708,\n",
       "       0.66197287, 0.4767781 , 0.61974101, 0.48664195, 0.54445316,\n",
       "       0.30652103, 0.30427879, 0.28105857, 0.35342236])"
      ]
     },
     "execution_count": 76,
     "metadata": {},
     "output_type": "execute_result"
    }
   ],
   "source": [
    "pred_3"
   ]
  },
  {
   "cell_type": "code",
   "execution_count": 75,
   "id": "b59f3acc",
   "metadata": {},
   "outputs": [],
   "source": [
    "\n",
    "labels_train_4 = np.where(labels_train==4, 1, 0)\n",
    "labels_val_4 = np.where(labels_val==4, 1, 0)"
   ]
  },
  {
   "cell_type": "code",
   "execution_count": 200,
   "id": "e2b3b79f",
   "metadata": {},
   "outputs": [
    {
     "name": "stdout",
     "output_type": "stream",
     "text": [
      "Accuracy for training dataset: 0.7140201805629315\n",
      "Accuracy for validation dataset: 0.7692307692307693\n"
     ]
    }
   ],
   "source": [
    "##############################\n",
    "# Provide your code here\n",
    "\n",
    "\n",
    "labels_train_4 = np.where(labels_train==4, 1, 0)\n",
    "labels_val_4 = np.where(labels_val==4, 1, 0)\n",
    "\n",
    "zz_map_4 = ZZFeatureMap(feature_dimension=N_DIM, reps=2, entanglement='linear', insert_barriers=True)\n",
    "zz_kernel_4 = QuantumKernel(feature_map=zz_map_4, quantum_instance=Aer.get_backend('statevector_simulator'))\n",
    "\n",
    "zzpc_svc_4 = SVC(kernel='precomputed', probability=True)\n",
    "\n",
    "matrix_train_4 = zz_kernel_4.evaluate(x_vec=sample_train)\n",
    "zzpc_svc_4.fit(matrix_train_4, labels_train_4)\n",
    "zzpc_score_4_train = zzpc_svc_4.score(matrix_train_4, labels_train_4)\n",
    "print(f'Accuracy for training dataset: {zzpc_score_4_train}')\n",
    "\n",
    "matrix_val_4 = zz_kernel_4.evaluate(x_vec=sample_val, y_vec=sample_train)\n",
    "zzpc_score_4 = zzpc_svc_4.score(matrix_val_4, labels_val_4)\n",
    "print(f'Accuracy for validation dataset: {zzpc_score_4}')\n",
    "\n",
    "matrix_test_4 = zz_kernel_4.evaluate(x_vec=sample_test, y_vec=sample_train)\n",
    "pred_4 = zzpc_svc_4.predict_proba(matrix_test_4)[:, 1]\n",
    "\n",
    "\n",
    "##############################"
   ]
  },
  {
   "cell_type": "code",
   "execution_count": null,
   "id": "c2e30642",
   "metadata": {},
   "outputs": [],
   "source": [
    "pred_4 "
   ]
  },
  {
   "cell_type": "code",
   "execution_count": null,
   "id": "fd93ea83",
   "metadata": {},
   "outputs": [],
   "source": []
  },
  {
   "cell_type": "code",
   "execution_count": null,
   "id": "0f727cc3",
   "metadata": {},
   "outputs": [],
   "source": [
    "Accuracy for validation dataset: 0.9319389110225763\n",
    "Accuracy for validation dataset: 0.9217506631299734"
   ]
  },
  {
   "cell_type": "code",
   "execution_count": 202,
   "id": "87365746",
   "metadata": {},
   "outputs": [
    {
     "data": {
      "text/plain": [
       "array([[1],\n",
       "       [0],\n",
       "       [0],\n",
       "       ...,\n",
       "       [0],\n",
       "       [0],\n",
       "       [0]])"
      ]
     },
     "execution_count": 202,
     "metadata": {},
     "output_type": "execute_result"
    }
   ],
   "source": [
    "labels_train_4"
   ]
  },
  {
   "cell_type": "code",
   "execution_count": null,
   "id": "5f3bf463",
   "metadata": {},
   "outputs": [],
   "source": []
  }
 ],
 "metadata": {
  "kernelspec": {
   "display_name": "tensorflow-m1",
   "language": "python",
   "name": "tensorflow-m1"
  },
  "language_info": {
   "codemirror_mode": {
    "name": "ipython",
    "version": 3
   },
   "file_extension": ".py",
   "mimetype": "text/x-python",
   "name": "python",
   "nbconvert_exporter": "python",
   "pygments_lexer": "ipython3",
   "version": "3.9.0"
  }
 },
 "nbformat": 4,
 "nbformat_minor": 5
}
