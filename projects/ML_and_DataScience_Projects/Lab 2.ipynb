{
 "cells": [
  {
   "cell_type": "code",
   "execution_count": 71,
   "id": "bf272f3c",
   "metadata": {},
   "outputs": [],
   "source": [
    "import requests \n",
    "from bs4 import BeautifulSoup #library used for web scrapping\n",
    "import warnings\n",
    "\n",
    "# Ignore all warnings\n",
    "warnings.filterwarnings(\"ignore\")\n",
    "\n",
    "def text_extraction(url, output_file):\n",
    "    response = requests.get(url, verify = False)\n",
    "    soup = BeautifulSoup(response.text, 'html.parser') \n",
    "   \n",
    "    \n",
    "    text_elements = soup.find_all('body') #extract content of body of the script\n",
    "    extracted_text = \"\\n\".join([element.get_text() for element in text_elements])\n",
    "\n",
    "    # Save the extracted text to a text file for further processing\n",
    "    with open(output_file, 'w', encoding='utf-8') as file:\n",
    "        file.write(extracted_text)\n",
    "\n",
    "    print(f\"Text extracted from {url} and saved to {output_file}\")"
   ]
  },
  {
   "cell_type": "code",
   "execution_count": 72,
   "id": "b75312c7",
   "metadata": {},
   "outputs": [
    {
     "name": "stdout",
     "output_type": "stream",
     "text": [
      "Text extracted from https://www.edx.org/course/data-science-machine-learning and saved to doc1.txt\n"
     ]
    }
   ],
   "source": [
    "url = 'https://www.edx.org/course/data-science-machine-learning' \n",
    "doc1_output = 'doc1.txt'  \n",
    "text_extraction(url, doc1_output)"
   ]
  },
  {
   "cell_type": "code",
   "execution_count": 73,
   "id": "c0c7abb6",
   "metadata": {
    "scrolled": true
   },
   "outputs": [
    {
     "name": "stdout",
     "output_type": "stream",
     "text": [
      "Text extracted from https://en.wikipedia.org/wiki/Engineering and saved to doc2.txt\n"
     ]
    }
   ],
   "source": [
    "url = 'https://en.wikipedia.org/wiki/Engineering'  \n",
    "doc2_output = 'doc2.txt'  # Choose a filename for the output file\n",
    "text_extraction(url, doc2_output)"
   ]
  },
  {
   "cell_type": "code",
   "execution_count": 74,
   "id": "7960dc1d",
   "metadata": {},
   "outputs": [
    {
     "name": "stdout",
     "output_type": "stream",
     "text": [
      "Text extracted from http://my.clevelandclinic.org/research and saved to doc3.txt\n"
     ]
    }
   ],
   "source": [
    "url = 'http://my.clevelandclinic.org/research'  \n",
    "doc3_output = 'doc3.txt'  # naming for the output file\n",
    "text_extraction(url, doc3_output)"
   ]
  },
  {
   "cell_type": "code",
   "execution_count": 75,
   "id": "51137ffb",
   "metadata": {},
   "outputs": [
    {
     "name": "stdout",
     "output_type": "stream",
     "text": [
      "Text extracted from https://en.wikipedia.org/wiki/Data_mining and saved to doc4.txt\n"
     ]
    }
   ],
   "source": [
    "url = 'https://en.wikipedia.org/wiki/Data_mining' \n",
    "doc4_output = 'doc4.txt'  # Choose a filename for the output file\n",
    "text_extraction(url, doc4_output)"
   ]
  },
  {
   "cell_type": "code",
   "execution_count": 76,
   "id": "3806520c",
   "metadata": {
    "scrolled": true
   },
   "outputs": [
    {
     "name": "stdout",
     "output_type": "stream",
     "text": [
      "Text extracted from https://en.wikipedia.org/wiki/Data_mining#Data_mining and saved to doc5.txt\n"
     ]
    }
   ],
   "source": [
    "url = 'https://en.wikipedia.org/wiki/Data_mining#Data_mining'  \n",
    "doc5_output = 'doc5.txt'  # Choose a filename for the output file\n",
    "text_extraction(url, doc5_output)"
   ]
  },
  {
   "cell_type": "code",
   "execution_count": 77,
   "id": "36b56c9d",
   "metadata": {
    "scrolled": true
   },
   "outputs": [
    {
     "name": "stdout",
     "output_type": "stream",
     "text": [
      "Text extracted from https://eecs.csuohio.edu/~sschung/ and saved to doc6.txt\n"
     ]
    }
   ],
   "source": [
    "url = 'https://eecs.csuohio.edu/~sschung/'\n",
    "doc6_output = 'doc6.txt'  # Choose a filename for the output file\n",
    "text_extraction(url, doc6_output)"
   ]
  },
  {
   "cell_type": "code",
   "execution_count": 78,
   "id": "e984aa8f",
   "metadata": {},
   "outputs": [],
   "source": [
    "### Import necessary Libaries"
   ]
  },
  {
   "cell_type": "code",
   "execution_count": 79,
   "id": "4296be10",
   "metadata": {},
   "outputs": [
    {
     "name": "stderr",
     "output_type": "stream",
     "text": [
      "[nltk_data] Downloading package stopwords to\n",
      "[nltk_data]     /Users/temitopeadeniyi/nltk_data...\n",
      "[nltk_data]   Package stopwords is already up-to-date!\n"
     ]
    },
    {
     "data": {
      "text/plain": [
       "True"
      ]
     },
     "execution_count": 79,
     "metadata": {},
     "output_type": "execute_result"
    }
   ],
   "source": [
    "import string\n",
    "import re\n",
    "import nltk\n",
    "from nltk.corpus import stopwords\n",
    "from nltk.stem import WordNetLemmatizer\n",
    "\n",
    "nltk.download('stopwords')  # Download the stop words data"
   ]
  },
  {
   "cell_type": "code",
   "execution_count": 80,
   "id": "55fd111c",
   "metadata": {},
   "outputs": [],
   "source": [
    "# Function to process the text as per the sequence\n",
    "def process_text(text):\n",
    "    # 1. Remove punctuation and symbols\n",
    "    translator = str.maketrans('', '', string.punctuation)\n",
    "    text_without_punctuation = text.translate(translator)\n",
    "    text_without_symbols = re.sub(r'[^a-zA-Z0-9\\s]', '', text_without_punctuation)\n",
    "    \n",
    "    # 2. Remove stop words\n",
    "    stop_words = set(stopwords.words('english'))\n",
    "    words = text_without_symbols.split()\n",
    "    filtered_words = [word for word in words if word.lower() not in stop_words]\n",
    "    \n",
    "    # 3. Lemmatization\n",
    "    lemmatizer = WordNetLemmatizer()\n",
    "    lemmatized_words = [lemmatizer.lemmatize(word) for word in filtered_words]\n",
    "    \n",
    "    # 4. Lowercasing\n",
    "    cleaned_lower_text = ' '.join(lemmatized_words).lower()\n",
    "    \n",
    "    return cleaned_lower_text"
   ]
  },
  {
   "cell_type": "code",
   "execution_count": 81,
   "id": "accd8172",
   "metadata": {
    "scrolled": true
   },
   "outputs": [],
   "source": [
    "#### Input and output file names\n",
    "input_file = \"doc1_output.txt\"\n",
    "# Read the input file\n",
    "with open(input_file, \"r\") as f:\n",
    "    data = f.read()\n",
    "\n",
    "# Remove punctuation and symbols\n",
    "doc1 = process_text(data)\n",
    "\n",
    "#print(doc1)"
   ]
  },
  {
   "cell_type": "code",
   "execution_count": 82,
   "id": "7e2919a9",
   "metadata": {
    "scrolled": true
   },
   "outputs": [],
   "source": [
    "#### Input and output file names\n",
    "input_file = \"doc2_output.txt\"\n",
    "# Read the input file\n",
    "with open(input_file, \"r\") as f:\n",
    "    data = f.read()\n",
    "\n",
    "# Remove punctuation and symbols\n",
    "doc2 = process_text(data)\n",
    "\n",
    "#print(doc2)"
   ]
  },
  {
   "cell_type": "code",
   "execution_count": 83,
   "id": "14d77160",
   "metadata": {},
   "outputs": [],
   "source": [
    "#### Input and output file names\n",
    "input_file = \"doc3_output.txt\"\n",
    "# Read the input file\n",
    "with open(input_file, \"r\") as f:\n",
    "    data = f.read()\n",
    "\n",
    "# Remove punctuation and symbols\n",
    "doc3 = process_text(data)\n",
    "\n",
    "#print(doc3)"
   ]
  },
  {
   "cell_type": "code",
   "execution_count": 84,
   "id": "8e6dcf74",
   "metadata": {},
   "outputs": [],
   "source": [
    "#### Input and output file names\n",
    "input_file = \"doc4_output.txt\"\n",
    "# Read the input file\n",
    "with open(input_file, \"r\") as f:\n",
    "    data = f.read()\n",
    "\n",
    "# Remove punctuation and symbols\n",
    "doc4 = process_text(data)\n",
    "\n",
    "#print(doc4)"
   ]
  },
  {
   "cell_type": "code",
   "execution_count": 85,
   "id": "e830211d",
   "metadata": {},
   "outputs": [],
   "source": [
    "#### Input and output file names\n",
    "input_file = \"doc5_output.txt\"\n",
    "# Read the input file\n",
    "with open(input_file, \"r\") as f:\n",
    "    data = f.read()\n",
    "\n",
    "# Remove punctuation and symbols\n",
    "doc5 = process_text(data)\n",
    "\n",
    "#print(doc5)"
   ]
  },
  {
   "cell_type": "code",
   "execution_count": 86,
   "id": "a328eb84",
   "metadata": {},
   "outputs": [],
   "source": [
    "#### Input and output file names\n",
    "input_file = \"doc6_output.txt\"\n",
    "# Read the input file\n",
    "with open(input_file, \"r\") as f:\n",
    "    data = f.read()\n",
    "\n",
    "# Remove punctuation and symbols\n",
    "doc6 = process_text(data)\n",
    "\n",
    "#print(doc6)"
   ]
  },
  {
   "cell_type": "code",
   "execution_count": 87,
   "id": "3677c5ce",
   "metadata": {},
   "outputs": [
    {
     "name": "stderr",
     "output_type": "stream",
     "text": [
      "[nltk_data] Downloading package punkt to\n",
      "[nltk_data]     /Users/temitopeadeniyi/nltk_data...\n",
      "[nltk_data]   Package punkt is already up-to-date!\n"
     ]
    },
    {
     "data": {
      "text/plain": [
       "True"
      ]
     },
     "execution_count": 87,
     "metadata": {},
     "output_type": "execute_result"
    }
   ],
   "source": [
    "from nltk.tokenize import word_tokenize\n",
    "import pandas as pd\n",
    "import numpy as np\n",
    "from nltk import bigrams, trigrams\n",
    "\n",
    "nltk.download('punkt')  # Download NLTK data (if you haven't already)"
   ]
  },
  {
   "cell_type": "code",
   "execution_count": 136,
   "id": "c5a51a63",
   "metadata": {},
   "outputs": [],
   "source": [
    "def count_terms(documents):\n",
    "    # Define the keywords and bi-grams to count\n",
    "    keywords = [\"research\", \"data\", \"mining\", \"analytics\"] #one gram keywords\n",
    "    bi_grams = [\"data mining\", \"machine learning\", \"deep learning\"] #bi gram keywords\n",
    "    \n",
    "    #creating DataFrame to store the results of the terms counted\n",
    "    Term_freq_df = pd.DataFrame(columns=[\"Document\"] + keywords + bi_grams)\n",
    "    \n",
    "    # create dictionary to keep track of document frequency\n",
    "    doc_frequency = {term: 0 for term in keywords + bi_grams}\n",
    "    \n",
    "    for i, doc in enumerate(documents, start=1):\n",
    "        # Tokenize the text using word_tokenize\n",
    "        tokens = word_tokenize(doc.lower())  # Convert to lowercase for case-insensitivity\n",
    "\n",
    "        # Initialize counts of the terms\n",
    "        keyword_counts = {}\n",
    "        bi_gram_counts = {}    \n",
    "        keyword_counts[\"Document\"] = f\"Doc {i}\"\n",
    "\n",
    "        # Count all the one-gram keywords and update document frequency\n",
    "        for keyword in keywords:\n",
    "            keyword_counts[keyword] = tokens.count(keyword)\n",
    "            if tokens.count(keyword) > 0:\n",
    "                doc_frequency[keyword] += 1\n",
    "\n",
    "        # Count all the bi-grams and update document frequency\n",
    "        for bi_gram in bi_grams:\n",
    "            bi_gram_tokens = tuple(bi_gram.split())\n",
    "            bi_gram_counts[bi_gram] = list(bigrams(tokens)).count(bi_gram_tokens)\n",
    "            if list(bigrams(tokens)).count(bi_gram_tokens) > 0:\n",
    "                doc_frequency[bi_gram] += 1\n",
    "\n",
    "        # Append the counts to the DataFrame\n",
    "        Term_freq_df = Term_freq_df.append({**keyword_counts, **bi_gram_counts}, ignore_index=True)\n",
    "\n",
    "    # Create a DataFrame from the doc_frequency dictionary\n",
    "    doc_freq_df = pd.DataFrame.from_dict(doc_frequency, orient='index', columns=['Document Frequency'])\n",
    "    doc_freq_df.reset_index(inplace=True)\n",
    "    doc_freq_df.columns = ['Term', 'Document Frequency']\n",
    "\n",
    "    return Term_freq_df, doc_freq_df"
   ]
  },
  {
   "cell_type": "code",
   "execution_count": 137,
   "id": "623b5dd7",
   "metadata": {},
   "outputs": [],
   "source": [
    "# Put your documents into a list\n",
    "documents = [doc1, doc2, doc3, doc4, doc5, doc6]\n",
    "\n",
    "# Count keywords and bigrams for the documents\n",
    "Term_freq, doc_freq = count_terms(documents)\n"
   ]
  },
  {
   "cell_type": "code",
   "execution_count": 138,
   "id": "7e8af09e",
   "metadata": {
    "scrolled": false
   },
   "outputs": [
    {
     "name": "stdout",
     "output_type": "stream",
     "text": [
      "--------Term Frequency all documents:-------\n"
     ]
    },
    {
     "data": {
      "text/html": [
       "<div>\n",
       "<style scoped>\n",
       "    .dataframe tbody tr th:only-of-type {\n",
       "        vertical-align: middle;\n",
       "    }\n",
       "\n",
       "    .dataframe tbody tr th {\n",
       "        vertical-align: top;\n",
       "    }\n",
       "\n",
       "    .dataframe thead th {\n",
       "        text-align: right;\n",
       "    }\n",
       "</style>\n",
       "<table border=\"1\" class=\"dataframe\">\n",
       "  <thead>\n",
       "    <tr style=\"text-align: right;\">\n",
       "      <th></th>\n",
       "      <th>Document</th>\n",
       "      <th>research</th>\n",
       "      <th>data</th>\n",
       "      <th>mining</th>\n",
       "      <th>analytics</th>\n",
       "      <th>data mining</th>\n",
       "      <th>machine learning</th>\n",
       "      <th>deep learning</th>\n",
       "    </tr>\n",
       "  </thead>\n",
       "  <tbody>\n",
       "    <tr>\n",
       "      <th>0</th>\n",
       "      <td>Doc 1</td>\n",
       "      <td>7</td>\n",
       "      <td>24</td>\n",
       "      <td>0</td>\n",
       "      <td>1</td>\n",
       "      <td>0</td>\n",
       "      <td>13</td>\n",
       "      <td>0</td>\n",
       "    </tr>\n",
       "    <tr>\n",
       "      <th>1</th>\n",
       "      <td>Doc 2</td>\n",
       "      <td>18</td>\n",
       "      <td>3</td>\n",
       "      <td>8</td>\n",
       "      <td>0</td>\n",
       "      <td>0</td>\n",
       "      <td>0</td>\n",
       "      <td>0</td>\n",
       "    </tr>\n",
       "    <tr>\n",
       "      <th>2</th>\n",
       "      <td>Doc 3</td>\n",
       "      <td>38</td>\n",
       "      <td>1</td>\n",
       "      <td>0</td>\n",
       "      <td>0</td>\n",
       "      <td>0</td>\n",
       "      <td>0</td>\n",
       "      <td>2</td>\n",
       "    </tr>\n",
       "    <tr>\n",
       "      <th>3</th>\n",
       "      <td>Doc 4</td>\n",
       "      <td>10</td>\n",
       "      <td>246</td>\n",
       "      <td>155</td>\n",
       "      <td>6</td>\n",
       "      <td>127</td>\n",
       "      <td>24</td>\n",
       "      <td>1</td>\n",
       "    </tr>\n",
       "    <tr>\n",
       "      <th>4</th>\n",
       "      <td>Doc 5</td>\n",
       "      <td>10</td>\n",
       "      <td>246</td>\n",
       "      <td>155</td>\n",
       "      <td>6</td>\n",
       "      <td>127</td>\n",
       "      <td>24</td>\n",
       "      <td>1</td>\n",
       "    </tr>\n",
       "    <tr>\n",
       "      <th>5</th>\n",
       "      <td>Doc 6</td>\n",
       "      <td>33</td>\n",
       "      <td>72</td>\n",
       "      <td>3</td>\n",
       "      <td>22</td>\n",
       "      <td>2</td>\n",
       "      <td>24</td>\n",
       "      <td>6</td>\n",
       "    </tr>\n",
       "  </tbody>\n",
       "</table>\n",
       "</div>"
      ],
      "text/plain": [
       "  Document research data mining analytics data mining machine learning  \\\n",
       "0    Doc 1        7   24      0         1           0               13   \n",
       "1    Doc 2       18    3      8         0           0                0   \n",
       "2    Doc 3       38    1      0         0           0                0   \n",
       "3    Doc 4       10  246    155         6         127               24   \n",
       "4    Doc 5       10  246    155         6         127               24   \n",
       "5    Doc 6       33   72      3        22           2               24   \n",
       "\n",
       "  deep learning  \n",
       "0             0  \n",
       "1             0  \n",
       "2             2  \n",
       "3             1  \n",
       "4             1  \n",
       "5             6  "
      ]
     },
     "execution_count": 138,
     "metadata": {},
     "output_type": "execute_result"
    }
   ],
   "source": [
    "print(\"--------Term Frequency all documents:-------\")\n",
    "Term_freq"
   ]
  },
  {
   "cell_type": "code",
   "execution_count": 92,
   "id": "9c6d2b4f",
   "metadata": {},
   "outputs": [
    {
     "name": "stdout",
     "output_type": "stream",
     "text": [
      "--------Document frequency:-------\n"
     ]
    },
    {
     "data": {
      "text/html": [
       "<div>\n",
       "<style scoped>\n",
       "    .dataframe tbody tr th:only-of-type {\n",
       "        vertical-align: middle;\n",
       "    }\n",
       "\n",
       "    .dataframe tbody tr th {\n",
       "        vertical-align: top;\n",
       "    }\n",
       "\n",
       "    .dataframe thead th {\n",
       "        text-align: right;\n",
       "    }\n",
       "</style>\n",
       "<table border=\"1\" class=\"dataframe\">\n",
       "  <thead>\n",
       "    <tr style=\"text-align: right;\">\n",
       "      <th></th>\n",
       "      <th>Term</th>\n",
       "      <th>Document Frequency</th>\n",
       "    </tr>\n",
       "  </thead>\n",
       "  <tbody>\n",
       "    <tr>\n",
       "      <th>0</th>\n",
       "      <td>research</td>\n",
       "      <td>6</td>\n",
       "    </tr>\n",
       "    <tr>\n",
       "      <th>1</th>\n",
       "      <td>data</td>\n",
       "      <td>6</td>\n",
       "    </tr>\n",
       "    <tr>\n",
       "      <th>2</th>\n",
       "      <td>mining</td>\n",
       "      <td>4</td>\n",
       "    </tr>\n",
       "    <tr>\n",
       "      <th>3</th>\n",
       "      <td>analytics</td>\n",
       "      <td>4</td>\n",
       "    </tr>\n",
       "    <tr>\n",
       "      <th>4</th>\n",
       "      <td>data mining</td>\n",
       "      <td>3</td>\n",
       "    </tr>\n",
       "    <tr>\n",
       "      <th>5</th>\n",
       "      <td>machine learning</td>\n",
       "      <td>4</td>\n",
       "    </tr>\n",
       "    <tr>\n",
       "      <th>6</th>\n",
       "      <td>deep learning</td>\n",
       "      <td>4</td>\n",
       "    </tr>\n",
       "  </tbody>\n",
       "</table>\n",
       "</div>"
      ],
      "text/plain": [
       "               Term  Document Frequency\n",
       "0          research                   6\n",
       "1              data                   6\n",
       "2            mining                   4\n",
       "3         analytics                   4\n",
       "4       data mining                   3\n",
       "5  machine learning                   4\n",
       "6     deep learning                   4"
      ]
     },
     "execution_count": 92,
     "metadata": {},
     "output_type": "execute_result"
    }
   ],
   "source": [
    "print(\"--------Document frequency:-------\")\n",
    "doc_freq"
   ]
  },
  {
   "cell_type": "code",
   "execution_count": 34,
   "id": "7fc416a3",
   "metadata": {},
   "outputs": [
    {
     "data": {
      "image/png": "[encoded data removed]",
      "text/plain": [
       "<Figure size 1296x144 with 2 Axes>"
      ]
     },
     "metadata": {
      "needs_background": "light"
     },
     "output_type": "display_data"
    }
   ],
   "source": [
    "import matplotlib.pyplot as plt\n",
    "\n",
    "# Create subplots with varying widths\n",
    "fig, axs = plt.subplots(1, 2, figsize=(18, 2), gridspec_kw={'width_ratios': [2, 1]})\n",
    "\n",
    "# Set the font size\n",
    "font_size = 8.5\n",
    "\n",
    "axs[0].set_title('Term Frequency')\n",
    "axs[0].axis('tight')\n",
    "axs[0].axis('off')\n",
    "table1 = axs[0].table(cellText=Term_freq.values, colLabels=Term_freq.columns, cellLoc='center', loc='center', fontsize=font_size)\n",
    "\n",
    "axs[1].set_title('Document Frequency')\n",
    "axs[1].axis('tight')\n",
    "axs[1].axis('off')\n",
    "table2 = axs[1].table(cellText=doc_freq.values, colLabels=doc_freq.columns, cellLoc='center', loc='center', fontsize=font_size)\n",
    "\n",
    "# Adjust the table layout\n",
    "table1.auto_set_font_size(False)\n",
    "table1.set_fontsize(font_size)\n",
    "table2.auto_set_font_size(False)\n",
    "table2.set_fontsize(font_size)\n",
    "\n",
    "plt.show()\n"
   ]
  },
  {
   "cell_type": "markdown",
   "id": "c799a1cd",
   "metadata": {},
   "source": [
    "# EXTRA CREDIT"
   ]
  },
  {
   "cell_type": "code",
   "execution_count": 105,
   "id": "4e379ad6",
   "metadata": {
    "scrolled": true
   },
   "outputs": [
    {
     "data": {
      "text/html": [
       "<div>\n",
       "<style scoped>\n",
       "    .dataframe tbody tr th:only-of-type {\n",
       "        vertical-align: middle;\n",
       "    }\n",
       "\n",
       "    .dataframe tbody tr th {\n",
       "        vertical-align: top;\n",
       "    }\n",
       "\n",
       "    .dataframe thead th {\n",
       "        text-align: right;\n",
       "    }\n",
       "</style>\n",
       "<table border=\"1\" class=\"dataframe\">\n",
       "  <thead>\n",
       "    <tr style=\"text-align: right;\">\n",
       "      <th></th>\n",
       "      <th>Term</th>\n",
       "      <th>Doc #</th>\n",
       "      <th>Freq</th>\n",
       "    </tr>\n",
       "  </thead>\n",
       "  <tbody>\n",
       "    <tr>\n",
       "      <th>0</th>\n",
       "      <td>research</td>\n",
       "      <td>1</td>\n",
       "      <td>7</td>\n",
       "    </tr>\n",
       "    <tr>\n",
       "      <th>1</th>\n",
       "      <td>data</td>\n",
       "      <td>1</td>\n",
       "      <td>24</td>\n",
       "    </tr>\n",
       "    <tr>\n",
       "      <th>2</th>\n",
       "      <td>analytics</td>\n",
       "      <td>1</td>\n",
       "      <td>1</td>\n",
       "    </tr>\n",
       "    <tr>\n",
       "      <th>3</th>\n",
       "      <td>machine learning</td>\n",
       "      <td>1</td>\n",
       "      <td>13</td>\n",
       "    </tr>\n",
       "    <tr>\n",
       "      <th>4</th>\n",
       "      <td>research</td>\n",
       "      <td>2</td>\n",
       "      <td>18</td>\n",
       "    </tr>\n",
       "    <tr>\n",
       "      <th>5</th>\n",
       "      <td>data</td>\n",
       "      <td>2</td>\n",
       "      <td>3</td>\n",
       "    </tr>\n",
       "    <tr>\n",
       "      <th>6</th>\n",
       "      <td>mining</td>\n",
       "      <td>2</td>\n",
       "      <td>8</td>\n",
       "    </tr>\n",
       "    <tr>\n",
       "      <th>7</th>\n",
       "      <td>research</td>\n",
       "      <td>3</td>\n",
       "      <td>38</td>\n",
       "    </tr>\n",
       "    <tr>\n",
       "      <th>8</th>\n",
       "      <td>data</td>\n",
       "      <td>3</td>\n",
       "      <td>1</td>\n",
       "    </tr>\n",
       "    <tr>\n",
       "      <th>9</th>\n",
       "      <td>deep learning</td>\n",
       "      <td>3</td>\n",
       "      <td>2</td>\n",
       "    </tr>\n",
       "    <tr>\n",
       "      <th>10</th>\n",
       "      <td>research</td>\n",
       "      <td>4</td>\n",
       "      <td>10</td>\n",
       "    </tr>\n",
       "    <tr>\n",
       "      <th>11</th>\n",
       "      <td>data</td>\n",
       "      <td>4</td>\n",
       "      <td>246</td>\n",
       "    </tr>\n",
       "    <tr>\n",
       "      <th>12</th>\n",
       "      <td>mining</td>\n",
       "      <td>4</td>\n",
       "      <td>155</td>\n",
       "    </tr>\n",
       "    <tr>\n",
       "      <th>13</th>\n",
       "      <td>analytics</td>\n",
       "      <td>4</td>\n",
       "      <td>6</td>\n",
       "    </tr>\n",
       "    <tr>\n",
       "      <th>14</th>\n",
       "      <td>data mining</td>\n",
       "      <td>4</td>\n",
       "      <td>127</td>\n",
       "    </tr>\n",
       "    <tr>\n",
       "      <th>15</th>\n",
       "      <td>machine learning</td>\n",
       "      <td>4</td>\n",
       "      <td>24</td>\n",
       "    </tr>\n",
       "    <tr>\n",
       "      <th>16</th>\n",
       "      <td>deep learning</td>\n",
       "      <td>4</td>\n",
       "      <td>1</td>\n",
       "    </tr>\n",
       "    <tr>\n",
       "      <th>17</th>\n",
       "      <td>research</td>\n",
       "      <td>5</td>\n",
       "      <td>10</td>\n",
       "    </tr>\n",
       "    <tr>\n",
       "      <th>18</th>\n",
       "      <td>data</td>\n",
       "      <td>5</td>\n",
       "      <td>246</td>\n",
       "    </tr>\n",
       "    <tr>\n",
       "      <th>19</th>\n",
       "      <td>mining</td>\n",
       "      <td>5</td>\n",
       "      <td>155</td>\n",
       "    </tr>\n",
       "    <tr>\n",
       "      <th>20</th>\n",
       "      <td>analytics</td>\n",
       "      <td>5</td>\n",
       "      <td>6</td>\n",
       "    </tr>\n",
       "    <tr>\n",
       "      <th>21</th>\n",
       "      <td>data mining</td>\n",
       "      <td>5</td>\n",
       "      <td>127</td>\n",
       "    </tr>\n",
       "    <tr>\n",
       "      <th>22</th>\n",
       "      <td>machine learning</td>\n",
       "      <td>5</td>\n",
       "      <td>24</td>\n",
       "    </tr>\n",
       "    <tr>\n",
       "      <th>23</th>\n",
       "      <td>deep learning</td>\n",
       "      <td>5</td>\n",
       "      <td>1</td>\n",
       "    </tr>\n",
       "    <tr>\n",
       "      <th>24</th>\n",
       "      <td>research</td>\n",
       "      <td>6</td>\n",
       "      <td>33</td>\n",
       "    </tr>\n",
       "    <tr>\n",
       "      <th>25</th>\n",
       "      <td>data</td>\n",
       "      <td>6</td>\n",
       "      <td>72</td>\n",
       "    </tr>\n",
       "    <tr>\n",
       "      <th>26</th>\n",
       "      <td>mining</td>\n",
       "      <td>6</td>\n",
       "      <td>3</td>\n",
       "    </tr>\n",
       "    <tr>\n",
       "      <th>27</th>\n",
       "      <td>analytics</td>\n",
       "      <td>6</td>\n",
       "      <td>22</td>\n",
       "    </tr>\n",
       "    <tr>\n",
       "      <th>28</th>\n",
       "      <td>data mining</td>\n",
       "      <td>6</td>\n",
       "      <td>2</td>\n",
       "    </tr>\n",
       "    <tr>\n",
       "      <th>29</th>\n",
       "      <td>machine learning</td>\n",
       "      <td>6</td>\n",
       "      <td>24</td>\n",
       "    </tr>\n",
       "    <tr>\n",
       "      <th>30</th>\n",
       "      <td>deep learning</td>\n",
       "      <td>6</td>\n",
       "      <td>6</td>\n",
       "    </tr>\n",
       "  </tbody>\n",
       "</table>\n",
       "</div>"
      ],
      "text/plain": [
       "                Term Doc # Freq\n",
       "0           research     1    7\n",
       "1               data     1   24\n",
       "2          analytics     1    1\n",
       "3   machine learning     1   13\n",
       "4           research     2   18\n",
       "5               data     2    3\n",
       "6             mining     2    8\n",
       "7           research     3   38\n",
       "8               data     3    1\n",
       "9      deep learning     3    2\n",
       "10          research     4   10\n",
       "11              data     4  246\n",
       "12            mining     4  155\n",
       "13         analytics     4    6\n",
       "14       data mining     4  127\n",
       "15  machine learning     4   24\n",
       "16     deep learning     4    1\n",
       "17          research     5   10\n",
       "18              data     5  246\n",
       "19            mining     5  155\n",
       "20         analytics     5    6\n",
       "21       data mining     5  127\n",
       "22  machine learning     5   24\n",
       "23     deep learning     5    1\n",
       "24          research     6   33\n",
       "25              data     6   72\n",
       "26            mining     6    3\n",
       "27         analytics     6   22\n",
       "28       data mining     6    2\n",
       "29  machine learning     6   24\n",
       "30     deep learning     6    6"
      ]
     },
     "execution_count": 105,
     "metadata": {},
     "output_type": "execute_result"
    }
   ],
   "source": [
    "import pandas as pd\n",
    "from nltk import word_tokenize, bigrams\n",
    "\n",
    "def Dictionary_file(documents):\n",
    "    keywords = [\"research\", \"data\", \"mining\", \"analytics\"] #one gram keywordss\n",
    "    bi_grams = [\"data mining\", \"machine learning\", \"deep learning\"] #bi gram\n",
    "    # Initialize DataFrame to store the results\n",
    "    results = pd.DataFrame(columns=[\"Term\", \"Doc #\", \"Freq\"])\n",
    "    \n",
    "    for i, doc in enumerate(documents, start=1):\n",
    "        # Tokenize the text\n",
    "        tokens = word_tokenize(doc.lower())  # Convert to lowercase for case-insensitivity\n",
    "\n",
    "        # Count one-gram keywords\n",
    "        for keyword in keywords:\n",
    "            frequency = tokens.count(keyword)\n",
    "            if frequency > 0:  # Check if frequency is greater than zero\n",
    "                results = results.append({\"Term\": keyword, \"Doc #\": f\"{i}\", \"Freq\": frequency}, ignore_index=True)\n",
    "\n",
    "        # Count bi-grams\n",
    "        for bi_gram in bi_grams:\n",
    "            bi_gram_tokens = tuple(bi_gram.split())\n",
    "            frequency = list(bigrams(tokens)).count(bi_gram_tokens)\n",
    "            if frequency > 0:  # Check if frequency is greater than zero\n",
    "                results = results.append({\"Term\": bi_gram, \"Doc #\": f\" {i}\", \"Freq\": frequency}, ignore_index=True)\n",
    "\n",
    "    return results\n",
    "\n",
    "# Put your documents into a list\n",
    "documents = [doc1, doc2, doc3, doc4, doc5, doc6]\n",
    "\n",
    "# Count keywords and bigrams for the documents\n",
    "Dictionary_file = Dictionary_file(documents)\n",
    "\n",
    "# Display the results\n",
    "Dictionary_file\n"
   ]
  },
  {
   "cell_type": "code",
   "execution_count": 104,
   "id": "3f50a35f",
   "metadata": {
    "scrolled": true
   },
   "outputs": [
    {
     "name": "stdout",
     "output_type": "stream",
     "text": [
      "--------Inverted Index:-------\n"
     ]
    },
    {
     "data": {
      "text/html": [
       "<div>\n",
       "<style scoped>\n",
       "    .dataframe tbody tr th:only-of-type {\n",
       "        vertical-align: middle;\n",
       "    }\n",
       "\n",
       "    .dataframe tbody tr th {\n",
       "        vertical-align: top;\n",
       "    }\n",
       "\n",
       "    .dataframe thead th {\n",
       "        text-align: right;\n",
       "    }\n",
       "</style>\n",
       "<table border=\"1\" class=\"dataframe\">\n",
       "  <thead>\n",
       "    <tr style=\"text-align: right;\">\n",
       "      <th></th>\n",
       "      <th>Term</th>\n",
       "      <th>Doc #</th>\n",
       "      <th>Total Frequency</th>\n",
       "    </tr>\n",
       "  </thead>\n",
       "  <tbody>\n",
       "    <tr>\n",
       "      <th>0</th>\n",
       "      <td>analytics</td>\n",
       "      <td>4</td>\n",
       "      <td>35</td>\n",
       "    </tr>\n",
       "    <tr>\n",
       "      <th>1</th>\n",
       "      <td>data</td>\n",
       "      <td>6</td>\n",
       "      <td>592</td>\n",
       "    </tr>\n",
       "    <tr>\n",
       "      <th>2</th>\n",
       "      <td>data mining</td>\n",
       "      <td>3</td>\n",
       "      <td>256</td>\n",
       "    </tr>\n",
       "    <tr>\n",
       "      <th>3</th>\n",
       "      <td>deep learning</td>\n",
       "      <td>4</td>\n",
       "      <td>10</td>\n",
       "    </tr>\n",
       "    <tr>\n",
       "      <th>4</th>\n",
       "      <td>machine learning</td>\n",
       "      <td>4</td>\n",
       "      <td>85</td>\n",
       "    </tr>\n",
       "    <tr>\n",
       "      <th>5</th>\n",
       "      <td>mining</td>\n",
       "      <td>4</td>\n",
       "      <td>321</td>\n",
       "    </tr>\n",
       "    <tr>\n",
       "      <th>6</th>\n",
       "      <td>research</td>\n",
       "      <td>6</td>\n",
       "      <td>116</td>\n",
       "    </tr>\n",
       "  </tbody>\n",
       "</table>\n",
       "</div>"
      ],
      "text/plain": [
       "               Term  Doc # Total Frequency\n",
       "0         analytics      4              35\n",
       "1              data      6             592\n",
       "2       data mining      3             256\n",
       "3     deep learning      4              10\n",
       "4  machine learning      4              85\n",
       "5            mining      4             321\n",
       "6          research      6             116"
      ]
     },
     "execution_count": 104,
     "metadata": {},
     "output_type": "execute_result"
    }
   ],
   "source": [
    "# Generate the L3InvertedIndex\n",
    "def find_InvertedIndex(results):\n",
    "    term_doc_count = results.groupby('Term')['Doc #'].nunique().reset_index()\n",
    "    term_total_freq = results.groupby('Term')['Freq'].sum().reset_index()\n",
    "    InvertedIndex = term_doc_count.merge(term_total_freq, on='Term')\n",
    "    InvertedIndex.columns = ['Term', 'Doc #', 'Total Frequency']\n",
    "    return InvertedIndex\n",
    "\n",
    "InvertedIndex = find_InvertedIndex(Dictionary_file)\n",
    "\n",
    "\n",
    "print(\"--------Inverted Index:-------\")\n",
    "InvertedIndex"
   ]
  },
  {
   "cell_type": "markdown",
   "id": "12ebd858",
   "metadata": {},
   "source": [
    "## Calculate the idf\n",
    "\n",
    "### idf = log*10* (N/df)\n",
    "\n",
    "N = total number of documnet =6\n",
    "\n",
    "df = document frequency for each term"
   ]
  },
  {
   "cell_type": "code",
   "execution_count": 141,
   "id": "688bbd64",
   "metadata": {
    "scrolled": false
   },
   "outputs": [
    {
     "name": "stdout",
     "output_type": "stream",
     "text": [
      "--------Inverted Index - idf value:-------\n"
     ]
    },
    {
     "data": {
      "text/html": [
       "<div>\n",
       "<style scoped>\n",
       "    .dataframe tbody tr th:only-of-type {\n",
       "        vertical-align: middle;\n",
       "    }\n",
       "\n",
       "    .dataframe tbody tr th {\n",
       "        vertical-align: top;\n",
       "    }\n",
       "\n",
       "    .dataframe thead th {\n",
       "        text-align: right;\n",
       "    }\n",
       "</style>\n",
       "<table border=\"1\" class=\"dataframe\">\n",
       "  <thead>\n",
       "    <tr style=\"text-align: right;\">\n",
       "      <th></th>\n",
       "      <th>Term</th>\n",
       "      <th>Doc #</th>\n",
       "      <th>Total Frequency</th>\n",
       "      <th>IDF</th>\n",
       "    </tr>\n",
       "  </thead>\n",
       "  <tbody>\n",
       "    <tr>\n",
       "      <th>0</th>\n",
       "      <td>analytics</td>\n",
       "      <td>4</td>\n",
       "      <td>35</td>\n",
       "      <td>0.405465</td>\n",
       "    </tr>\n",
       "    <tr>\n",
       "      <th>1</th>\n",
       "      <td>data</td>\n",
       "      <td>6</td>\n",
       "      <td>592</td>\n",
       "      <td>0.000000</td>\n",
       "    </tr>\n",
       "    <tr>\n",
       "      <th>2</th>\n",
       "      <td>data mining</td>\n",
       "      <td>3</td>\n",
       "      <td>256</td>\n",
       "      <td>0.693147</td>\n",
       "    </tr>\n",
       "    <tr>\n",
       "      <th>3</th>\n",
       "      <td>deep learning</td>\n",
       "      <td>4</td>\n",
       "      <td>10</td>\n",
       "      <td>0.405465</td>\n",
       "    </tr>\n",
       "    <tr>\n",
       "      <th>4</th>\n",
       "      <td>machine learning</td>\n",
       "      <td>4</td>\n",
       "      <td>85</td>\n",
       "      <td>0.405465</td>\n",
       "    </tr>\n",
       "    <tr>\n",
       "      <th>5</th>\n",
       "      <td>mining</td>\n",
       "      <td>4</td>\n",
       "      <td>321</td>\n",
       "      <td>0.405465</td>\n",
       "    </tr>\n",
       "    <tr>\n",
       "      <th>6</th>\n",
       "      <td>research</td>\n",
       "      <td>6</td>\n",
       "      <td>116</td>\n",
       "      <td>0.000000</td>\n",
       "    </tr>\n",
       "  </tbody>\n",
       "</table>\n",
       "</div>"
      ],
      "text/plain": [
       "               Term  Doc # Total Frequency       IDF\n",
       "0         analytics      4              35  0.405465\n",
       "1              data      6             592  0.000000\n",
       "2       data mining      3             256  0.693147\n",
       "3     deep learning      4              10  0.405465\n",
       "4  machine learning      4              85  0.405465\n",
       "5            mining      4             321  0.405465\n",
       "6          research      6             116  0.000000"
      ]
     },
     "execution_count": 141,
     "metadata": {},
     "output_type": "execute_result"
    }
   ],
   "source": [
    "N = 6\n",
    "\n",
    "# Calculate the IDF for each term and add it to the DataFrame\n",
    "InvertedIndex[\"IDF\"] = np.log(N/InvertedIndex[\"Doc #\"])\n",
    "\n",
    "print(\"--------Inverted Index - idf value:-------\")\n",
    "# Display the updated InvertedIndex DataFrame\n",
    "InvertedIndex"
   ]
  },
  {
   "cell_type": "code",
   "execution_count": 300,
   "id": "d76d7558",
   "metadata": {},
   "outputs": [
    {
     "data": {
      "text/plain": [
       "0    0.405465\n",
       "1    0.000000\n",
       "2    0.693147\n",
       "3    0.405465\n",
       "4    0.405465\n",
       "5    0.405465\n",
       "6    0.000000\n",
       "Name: IDF, dtype: float64"
      ]
     },
     "execution_count": 300,
     "metadata": {},
     "output_type": "execute_result"
    }
   ],
   "source": [
    "InvertedIndex[\"IDF\"]"
   ]
  },
  {
   "cell_type": "markdown",
   "id": "1b6d7936",
   "metadata": {},
   "source": [
    "The tf-idf weight of a term is the product of its tf weight and its idf weight\n",
    "\n",
    "## W = log(1 + tf) * log10(N/df)"
   ]
  },
  {
   "cell_type": "code",
   "execution_count": 157,
   "id": "bb71a3c3",
   "metadata": {},
   "outputs": [],
   "source": [
    "columns_to_convert = ['research', 'data', 'mining', 'analytics', 'data mining', 'machine learning', 'deep learning']\n",
    "\n",
    "# Convert the specified columns to numeric\n",
    "Term_freq[columns_to_convert] = Term_freq[columns_to_convert].apply(pd.to_numeric)\n",
    "InvertedIndex[\"IDF\"] = pd.to_numeric(InvertedIndex[\"IDF\"])\n"
   ]
  },
  {
   "cell_type": "code",
   "execution_count": 159,
   "id": "64ccc947",
   "metadata": {
    "scrolled": true
   },
   "outputs": [
    {
     "data": {
      "text/html": [
       "<div>\n",
       "<style scoped>\n",
       "    .dataframe tbody tr th:only-of-type {\n",
       "        vertical-align: middle;\n",
       "    }\n",
       "\n",
       "    .dataframe tbody tr th {\n",
       "        vertical-align: top;\n",
       "    }\n",
       "\n",
       "    .dataframe thead th {\n",
       "        text-align: right;\n",
       "    }\n",
       "</style>\n",
       "<table border=\"1\" class=\"dataframe\">\n",
       "  <thead>\n",
       "    <tr style=\"text-align: right;\">\n",
       "      <th></th>\n",
       "      <th>analytics</th>\n",
       "      <th>data</th>\n",
       "      <th>data mining</th>\n",
       "      <th>deep learning</th>\n",
       "      <th>machine learning</th>\n",
       "      <th>mining</th>\n",
       "      <th>research</th>\n",
       "    </tr>\n",
       "  </thead>\n",
       "  <tbody>\n",
       "    <tr>\n",
       "      <th>0</th>\n",
       "      <td>0.281047</td>\n",
       "      <td>0.0</td>\n",
       "      <td>0.000000</td>\n",
       "      <td>0.000000</td>\n",
       "      <td>1.070046</td>\n",
       "      <td>0.000000</td>\n",
       "      <td>0.0</td>\n",
       "    </tr>\n",
       "    <tr>\n",
       "      <th>1</th>\n",
       "      <td>0.000000</td>\n",
       "      <td>0.0</td>\n",
       "      <td>0.000000</td>\n",
       "      <td>0.000000</td>\n",
       "      <td>0.000000</td>\n",
       "      <td>0.890898</td>\n",
       "      <td>0.0</td>\n",
       "    </tr>\n",
       "    <tr>\n",
       "      <th>2</th>\n",
       "      <td>0.000000</td>\n",
       "      <td>0.0</td>\n",
       "      <td>0.000000</td>\n",
       "      <td>0.445449</td>\n",
       "      <td>0.000000</td>\n",
       "      <td>0.000000</td>\n",
       "      <td>0.0</td>\n",
       "    </tr>\n",
       "    <tr>\n",
       "      <th>3</th>\n",
       "      <td>0.788999</td>\n",
       "      <td>0.0</td>\n",
       "      <td>3.363171</td>\n",
       "      <td>0.281047</td>\n",
       "      <td>1.305142</td>\n",
       "      <td>2.047540</td>\n",
       "      <td>0.0</td>\n",
       "    </tr>\n",
       "    <tr>\n",
       "      <th>4</th>\n",
       "      <td>0.788999</td>\n",
       "      <td>0.0</td>\n",
       "      <td>3.363171</td>\n",
       "      <td>0.281047</td>\n",
       "      <td>1.305142</td>\n",
       "      <td>2.047540</td>\n",
       "      <td>0.0</td>\n",
       "    </tr>\n",
       "    <tr>\n",
       "      <th>5</th>\n",
       "      <td>1.271334</td>\n",
       "      <td>0.0</td>\n",
       "      <td>0.761500</td>\n",
       "      <td>0.788999</td>\n",
       "      <td>1.305142</td>\n",
       "      <td>0.562094</td>\n",
       "      <td>0.0</td>\n",
       "    </tr>\n",
       "  </tbody>\n",
       "</table>\n",
       "</div>"
      ],
      "text/plain": [
       "   analytics  data  data mining  deep learning  machine learning    mining  \\\n",
       "0   0.281047   0.0     0.000000       0.000000          1.070046  0.000000   \n",
       "1   0.000000   0.0     0.000000       0.000000          0.000000  0.890898   \n",
       "2   0.000000   0.0     0.000000       0.445449          0.000000  0.000000   \n",
       "3   0.788999   0.0     3.363171       0.281047          1.305142  2.047540   \n",
       "4   0.788999   0.0     3.363171       0.281047          1.305142  2.047540   \n",
       "5   1.271334   0.0     0.761500       0.788999          1.305142  0.562094   \n",
       "\n",
       "   research  \n",
       "0       0.0  \n",
       "1       0.0  \n",
       "2       0.0  \n",
       "3       0.0  \n",
       "4       0.0  \n",
       "5       0.0  "
      ]
     },
     "execution_count": 159,
     "metadata": {},
     "output_type": "execute_result"
    }
   ],
   "source": [
    "# Define a function to calculate TF-IDF\n",
    "def calculate_tfidf(tf, idf):\n",
    "    return np.log(1 + tf) * idf\n",
    "\n",
    "# Create a new DataFrame to store the TF-IDF values\n",
    "tfidf_df = pd.DataFrame()\n",
    "\n",
    "# Calculate TF-IDF for each term and document\n",
    "for term in InvertedIndex[\"Term\"]:\n",
    "    tfidf_df[term] = calculate_tfidf(Term_freq[term], InvertedIndex.loc[InvertedIndex[\"Term\"] == term, \"IDF\"].values[0])\n",
    "\n",
    "# Display the TF-IDF DataFrame\n",
    "tfidf_df"
   ]
  },
  {
   "cell_type": "code",
   "execution_count": 125,
   "id": "b37611ec",
   "metadata": {},
   "outputs": [
    {
     "data": {
      "image/png": "[encoded data removed]",
      "text/plain": [
       "<Figure size 1080x648 with 2 Axes>"
      ]
     },
     "metadata": {
      "needs_background": "light"
     },
     "output_type": "display_data"
    }
   ],
   "source": [
    "import matplotlib.pyplot as plt\n",
    "font_size = 11\n",
    "# Create subplots\n",
    "fig, axs = plt.subplots(1, 2, figsize=(15, 9))\n",
    "\n",
    "# Plot df1 in the first subplot\n",
    "axs[0].set_title(\"Dictionary File\")\n",
    "axs[0].axis('tight')\n",
    "axs[0].axis('off')\n",
    "table1 = axs[0].table(cellText=Dictionary_file.values, colLabels=Dictionary_file.columns, cellLoc='center', loc='center')\n",
    "\n",
    "# Plot df2 in the second subplot\n",
    "axs[1].set_title(\"InvertedIndex\")\n",
    "axs[1].axis('tight')\n",
    "axs[1].axis('off')\n",
    "table2 = axs[1].table(cellText=InvertedIndex.values, colLabels=InvertedIndex.columns, cellLoc='center', loc='center')\n",
    "# Adjust the table layout\n",
    "\n",
    "table1.auto_set_font_size(False)\n",
    "table1.set_fontsize(font_size)\n",
    "table2.auto_set_font_size(False)\n",
    "table2.set_fontsize(font_size)\n",
    "plt.show()"
   ]
  },
  {
   "cell_type": "markdown",
   "id": "b259cfc3",
   "metadata": {},
   "source": [
    "## Part 2"
   ]
  },
  {
   "cell_type": "code",
   "execution_count": 134,
   "id": "870ca69f",
   "metadata": {
    "scrolled": true
   },
   "outputs": [],
   "source": [
    "def cosine_similarity(d1, d2):\n",
    "    dot_product = np.dot(d1, d2)\n",
    "    norm_d1 = np.linalg.norm(d1)\n",
    "    norm_d2 = np.linalg.norm(d2)\n",
    "\n",
    "    similarity = dot_product / (norm_d1 * norm_d2)\n",
    "    return similarity\n",
    "\n",
    "term_freq = Term_freq.set_index('Document')"
   ]
  },
  {
   "cell_type": "code",
   "execution_count": 135,
   "id": "34bd56f3",
   "metadata": {},
   "outputs": [
    {
     "name": "stdout",
     "output_type": "stream",
     "text": [
      "--------------Cosine Similarity Matrix for all documents----------------\n"
     ]
    },
    {
     "data": {
      "text/html": [
       "<div>\n",
       "<style scoped>\n",
       "    .dataframe tbody tr th:only-of-type {\n",
       "        vertical-align: middle;\n",
       "    }\n",
       "\n",
       "    .dataframe tbody tr th {\n",
       "        vertical-align: top;\n",
       "    }\n",
       "\n",
       "    .dataframe thead th {\n",
       "        text-align: right;\n",
       "    }\n",
       "</style>\n",
       "<table border=\"1\" class=\"dataframe\">\n",
       "  <thead>\n",
       "    <tr style=\"text-align: right;\">\n",
       "      <th>Document</th>\n",
       "      <th>Doc 1</th>\n",
       "      <th>Doc 2</th>\n",
       "      <th>Doc 3</th>\n",
       "      <th>Doc 4</th>\n",
       "      <th>Doc 5</th>\n",
       "      <th>Doc 6</th>\n",
       "    </tr>\n",
       "    <tr>\n",
       "      <th>Document</th>\n",
       "      <th></th>\n",
       "      <th></th>\n",
       "      <th></th>\n",
       "      <th></th>\n",
       "      <th></th>\n",
       "      <th></th>\n",
       "    </tr>\n",
       "  </thead>\n",
       "  <tbody>\n",
       "    <tr>\n",
       "      <th>Doc 1</th>\n",
       "      <td>1.000000</td>\n",
       "      <td>0.352441</td>\n",
       "      <td>0.270197</td>\n",
       "      <td>0.700846</td>\n",
       "      <td>0.700846</td>\n",
       "      <td>0.946528</td>\n",
       "    </tr>\n",
       "    <tr>\n",
       "      <th>Doc 2</th>\n",
       "      <td>0.352441</td>\n",
       "      <td>1.000000</td>\n",
       "      <td>0.905790</td>\n",
       "      <td>0.340152</td>\n",
       "      <td>0.340152</td>\n",
       "      <td>0.487174</td>\n",
       "    </tr>\n",
       "    <tr>\n",
       "      <th>Doc 3</th>\n",
       "      <td>0.270197</td>\n",
       "      <td>0.905790</td>\n",
       "      <td>1.000000</td>\n",
       "      <td>0.051813</td>\n",
       "      <td>0.051813</td>\n",
       "      <td>0.409105</td>\n",
       "    </tr>\n",
       "    <tr>\n",
       "      <th>Doc 4</th>\n",
       "      <td>0.700846</td>\n",
       "      <td>0.340152</td>\n",
       "      <td>0.051813</td>\n",
       "      <td>1.000000</td>\n",
       "      <td>1.000000</td>\n",
       "      <td>0.711882</td>\n",
       "    </tr>\n",
       "    <tr>\n",
       "      <th>Doc 5</th>\n",
       "      <td>0.700846</td>\n",
       "      <td>0.340152</td>\n",
       "      <td>0.051813</td>\n",
       "      <td>1.000000</td>\n",
       "      <td>1.000000</td>\n",
       "      <td>0.711882</td>\n",
       "    </tr>\n",
       "    <tr>\n",
       "      <th>Doc 6</th>\n",
       "      <td>0.946528</td>\n",
       "      <td>0.487174</td>\n",
       "      <td>0.409105</td>\n",
       "      <td>0.711882</td>\n",
       "      <td>0.711882</td>\n",
       "      <td>1.000000</td>\n",
       "    </tr>\n",
       "  </tbody>\n",
       "</table>\n",
       "</div>"
      ],
      "text/plain": [
       "Document     Doc 1     Doc 2     Doc 3     Doc 4     Doc 5     Doc 6\n",
       "Document                                                            \n",
       "Doc 1     1.000000  0.352441  0.270197  0.700846  0.700846  0.946528\n",
       "Doc 2     0.352441  1.000000  0.905790  0.340152  0.340152  0.487174\n",
       "Doc 3     0.270197  0.905790  1.000000  0.051813  0.051813  0.409105\n",
       "Doc 4     0.700846  0.340152  0.051813  1.000000  1.000000  0.711882\n",
       "Doc 5     0.700846  0.340152  0.051813  1.000000  1.000000  0.711882\n",
       "Doc 6     0.946528  0.487174  0.409105  0.711882  0.711882  1.000000"
      ]
     },
     "execution_count": 135,
     "metadata": {},
     "output_type": "execute_result"
    }
   ],
   "source": [
    "\n",
    "# Calculate cosine similarity between all pairs of rows\n",
    "cosine_sim = np.zeros((len(term_freq), len(term_freq)))\n",
    "\n",
    "for i in range(len(df)):\n",
    "    for j in range(len(df)):\n",
    "        cosine_sim[i, j] = cosine_similarity(term_freq.iloc[i], term_freq.iloc[j])\n",
    "\n",
    "# Create a DataFrame from the cosine similarity matrix\n",
    "cosine_sim_df = pd.DataFrame(cosine_sim, index=term_freq.index, columns=term_freq.index)\n",
    "print(\"--------------Cosine Similarity Matrix for all documents----------------\")\n",
    "# Display the cosine similarity DataFrame\n",
    "cosine_sim_df"
   ]
  },
  {
   "cell_type": "markdown",
   "id": "f8a1e7c0",
   "metadata": {},
   "source": [
    "## Part 3"
   ]
  }
 ],
 "metadata": {
  "kernelspec": {
   "display_name": "tensorflow-m1",
   "language": "python",
   "name": "tensorflow-m1"
  },
  "language_info": {
   "codemirror_mode": {
    "name": "ipython",
    "version": 3
   },
   "file_extension": ".py",
   "mimetype": "text/x-python",
   "name": "python",
   "nbconvert_exporter": "python",
   "pygments_lexer": "ipython3",
   "version": "3.9.0"
  }
 },
 "nbformat": 4,
 "nbformat_minor": 5
}
